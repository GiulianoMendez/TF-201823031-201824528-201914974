{
  "nbformat": 4,
  "nbformat_minor": 0,
  "metadata": {
    "colab": {
      "name": "Trabajo-Parcial-Complejidad-Algoritmica.ipynb",
      "provenance": [],
      "collapsed_sections": []
    },
    "kernelspec": {
      "name": "python3",
      "display_name": "Python 3"
    },
    "language_info": {
      "name": "python"
    }
  },
  "cells": [
    {
      "cell_type": "code",
      "source": [
        "import random"
      ],
      "metadata": {
        "id": "dgwNBk6uTRO-"
      },
      "execution_count": null,
      "outputs": []
    },
    {
      "cell_type": "markdown",
      "source": [
        "## Making recursive posibilities\n",
        "Watch every posibilitie to get a number with the sum of other *n* numbers. In this case, the \"number\" are the edges and the other numbers are vertexes. But the recurtion for too many variables are a difficulty."
      ],
      "metadata": {
        "id": "PllOKLdCr92-"
      }
    },
    {
      "cell_type": "code",
      "execution_count": null,
      "metadata": {
        "id": "9ZmB_KUp15Ox"
      },
      "outputs": [],
      "source": [
        "def many_ways(cumulative, adds, csum):\n",
        "  if len(cumulative) == adds:\n",
        "    if sum(cumulative) == csum:\n",
        "      print(cumulative)\n",
        "  else:\n",
        "    for i in range(1, csum + 1):\n",
        "      many_ways(cumulative + [i], adds, csum)"
      ]
    },
    {
      "cell_type": "markdown",
      "source": [
        "# Making iteratively"
      ],
      "metadata": {
        "id": "h6OUhx24V_AX"
      }
    },
    {
      "cell_type": "code",
      "source": [
        "def balance(collection, nadds):\n",
        "  size = len(collection)\n",
        "  for index in range(size):\n",
        "    if collection[size - 1 - index] == 0:\n",
        "      rindex = random.randint(0, size - 1)\n",
        "      while collection[rindex] <= 1:\n",
        "        rindex = random.randint(0, size - 1)\n",
        "      # print(index, collection[rindex] - 1)\n",
        "      reduction = random.randint(1, collection[rindex] - 1)\n",
        "      collection[size - 1 - index] += reduction\n",
        "      collection[rindex] -= reduction\n",
        "    elif collection[size - 1 - index] > nadds - 1:\n",
        "      replace = random.randint(1, nadds - 1)\n",
        "      diff = collection[size - 1 - index] - replace\n",
        "      collection[size - 1 - index] = replace\n",
        "      # print(replace, diff, collection)\n",
        "      for i in range(diff):\n",
        "        rindex = random.randint(0, size - 1)\n",
        "        #print(collection)\n",
        "        while collection[rindex] >= nadds - 1:\n",
        "          # print(collection[rindex], nadds - 1)\n",
        "          rindex = random.randint(0, size - 1)\n",
        "        # if collection[rindex] <= nadds - 2:\n",
        "        collection[rindex]+=1\n",
        "\n"
      ],
      "metadata": {
        "id": "eTiSfJZoPc7N"
      },
      "execution_count": null,
      "outputs": []
    },
    {
      "cell_type": "code",
      "source": [
        "def numbers(csum, nadds):\n",
        "  if csum <= nadds*(nadds-1) and csum >= nadds:\n",
        "    collection = []\n",
        "\n",
        "    while(nadds - len(collection) != 1):\n",
        "      rn = 0\n",
        "      if csum > nadds - 1:\n",
        "        r = random.randint(1, nadds - 1)\n",
        "      else:\n",
        "        if csum > 0:\n",
        "          r = random.randint(1, csum)\n",
        "        else:\n",
        "          r = 0\n",
        "      csum -= r\n",
        "      collection.append(r)\n",
        "    collection.append(csum)\n",
        "\n",
        "    balance(collection, nadds)\n",
        "    \n",
        "\n",
        "    return collection\n",
        "  return \"NOT POSSIBLE\"\n",
        "\n",
        "\n",
        "numbers(4, 5)"
      ],
      "metadata": {
        "colab": {
          "base_uri": "https://localhost:8080/",
          "height": 35
        },
        "id": "q7PdyPsgVTbH",
        "outputId": "20b15646-3746-4cc4-96a5-63136b2838f1"
      },
      "execution_count": null,
      "outputs": [
        {
          "output_type": "execute_result",
          "data": {
            "text/plain": [
              "'NOT POSSIBLE'"
            ],
            "application/vnd.google.colaboratory.intrinsic+json": {
              "type": "string"
            }
          },
          "metadata": {},
          "execution_count": 4
        }
      ]
    },
    {
      "cell_type": "code",
      "source": [
        "def data_graph(edges, vertexes):\n",
        "  return numbers(edges, vertexes)\n",
        "\n",
        "print(data_graph(1500*100, 1500))"
      ],
      "metadata": {
        "id": "9PQc9CmW0jNP",
        "colab": {
          "base_uri": "https://localhost:8080/"
        },
        "outputId": "7436ce0d-bcac-4f8d-9f35-4ade1b531337"
      },
      "execution_count": null,
      "outputs": [
        {
          "output_type": "stream",
          "name": "stdout",
          "text": [
            "[816, 112, 1, 99, 14, 184, 102, 13, 117, 61, 181, 17, 129, 532, 151, 546, 3, 225, 648, 253, 17, 255, 653, 308, 230, 27, 53, 85, 167, 425, 293, 2, 632, 187, 10, 225, 114, 1467, 1, 101, 323, 480, 433, 363, 131, 394, 177, 5, 35, 67, 736, 358, 274, 772, 1, 663, 1, 1027, 118, 52, 266, 100, 114, 1, 381, 76, 43, 14, 979, 1, 79, 166, 1, 159, 2, 794, 73, 26, 1127, 577, 94, 440, 571, 675, 59, 110, 1494, 851, 222, 276, 87, 7, 486, 20, 1, 1, 970, 21, 185, 1, 295, 26, 3, 1, 422, 225, 134, 12, 1, 8, 91, 522, 1, 7, 17, 1, 4, 366, 126, 1348, 86, 187, 6, 109, 109, 85, 288, 1301, 1, 184, 263, 413, 411, 7, 3, 844, 395, 308, 1, 676, 237, 73, 156, 880, 46, 2, 7, 9, 1129, 9, 336, 21, 52, 227, 552, 102, 851, 70, 1, 455, 26, 145, 86, 72, 38, 894, 2, 7, 166, 67, 102, 1089, 884, 383, 18, 88, 83, 630, 30, 384, 171, 221, 751, 209, 994, 46, 115, 413, 786, 491, 389, 383, 829, 52, 106, 8, 62, 742, 1, 722, 4, 65, 1, 1, 34, 4, 1, 1, 1, 10, 1, 1, 85, 30, 451, 19, 20, 24, 467, 81, 1, 107, 4, 1, 10, 2, 4, 19, 80, 21, 5, 18, 76, 34, 8, 5, 106, 1, 14, 8, 1, 6, 59, 12, 121, 1, 71, 2, 131, 5, 10, 2, 7, 1, 2, 15, 216, 105, 141, 1, 2, 59, 32, 9, 10, 7, 73, 177, 9, 7, 66, 20, 3, 1, 105, 12, 6, 74, 3, 191, 95, 2, 1, 12, 1, 1, 682, 2, 50, 4, 13, 3, 528, 32, 51, 1, 3, 5, 344, 1, 93, 8, 3, 3, 3, 1, 26, 6, 1, 201, 217, 12, 24, 2, 1, 60, 51, 44, 47, 483, 5, 24, 19, 67, 34, 103, 81, 11, 20, 15, 210, 11, 127, 48, 6, 87, 1, 1, 7, 190, 3, 1, 7, 30, 14, 3, 45, 17, 111, 2, 206, 10, 23, 11, 9, 5, 143, 143, 91, 139, 2, 21, 27, 1, 77, 25, 426, 29, 3, 2, 154, 8, 1, 4, 21, 6, 2, 1, 2, 331, 92, 37, 4, 70, 5, 2, 3, 3, 1, 2, 5, 7, 1, 3, 17, 189, 2, 16, 159, 274, 1, 3, 2, 42, 120, 9, 93, 1, 115, 352, 645, 221, 28, 2, 2, 9, 4, 4, 806, 2, 36, 153, 5, 7, 6, 31, 91, 12, 1, 596, 46, 2, 3, 2, 13, 4, 86, 1, 46, 1, 1, 82, 2, 30, 3, 66, 228, 1, 1097, 11, 117, 184, 10, 13, 6, 14, 4, 3, 48, 168, 204, 75, 9, 7, 5, 14, 16, 29, 2, 24, 296, 12, 15, 7, 12, 9, 3, 7, 20, 144, 20, 54, 296, 1, 1, 2, 12, 104, 15, 29, 1, 1, 1, 6, 6, 57, 21, 1, 90, 3, 26, 11, 15, 1, 5, 24, 1, 3, 5, 1, 10, 39, 21, 6, 8, 52, 16, 37, 6, 10, 66, 11, 157, 71, 113, 1, 9, 115, 29, 65, 57, 8, 25, 3, 1, 100, 2, 7, 11, 154, 37, 20, 4, 58, 1, 24, 10, 2, 87, 7, 21, 6, 10, 643, 331, 29, 34, 58, 3, 75, 22, 60, 37, 3, 27, 11, 22, 307, 502, 2, 19, 34, 2, 11, 2, 51, 6, 10, 7, 4, 49, 2, 5, 1, 15, 1, 33, 4, 3, 1, 48, 1, 3, 253, 16, 9, 5, 82, 610, 96, 23, 27, 3, 3, 79, 165, 7, 42, 73, 5, 145, 20, 128, 6, 116, 1, 2, 2, 206, 39, 23, 145, 26, 18, 34, 213, 24, 160, 3, 483, 14, 228, 17, 12, 117, 37, 74, 5, 232, 32, 55, 315, 10, 79, 3, 1, 23, 180, 24, 14, 8, 138, 3, 1, 16, 1, 3, 103, 1, 2, 57, 1, 2, 79, 1, 78, 3, 34, 2, 21, 20, 323, 10, 2, 8, 5, 1, 8, 2, 5, 8, 6, 1, 4, 1, 1, 10, 27, 9, 161, 9, 453, 421, 3, 1, 28, 12, 5, 4, 42, 28, 7, 1, 45, 12, 2, 31, 1, 1, 3, 99, 226, 14, 94, 3, 4, 4, 1, 3, 187, 81, 1, 1, 1, 8, 443, 27, 2, 28, 21, 4, 21, 6, 26, 2, 4, 1, 7, 281, 35, 5, 1, 45, 419, 4, 1, 205, 2, 150, 1, 60, 8, 197, 218, 10, 39, 20, 8, 2, 454, 1, 1, 6, 115, 2, 31, 35, 69, 99, 50, 4, 1, 578, 41, 120, 1, 3, 7, 80, 2, 85, 3, 14, 27, 8, 143, 59, 25, 3, 6, 90, 13, 69, 6, 59, 32, 439, 67, 17, 37, 27, 118, 17, 6, 3, 1, 94, 7, 35, 248, 18, 394, 1, 4, 17, 1, 11, 13, 21, 1, 44, 110, 1, 6, 17, 2, 5, 3, 4, 99, 261, 9, 1, 9, 55, 2, 1, 1, 2, 88, 12, 33, 9, 6, 12, 17, 29, 3, 192, 9, 804, 8, 169, 3, 138, 1, 129, 1, 94, 10, 1, 3, 2, 489, 27, 5, 1, 77, 158, 11, 3, 78, 1, 3, 6, 1, 60, 2, 22, 19, 432, 1, 40, 29, 90, 1, 22, 8, 63, 14, 8, 4, 51, 66, 3, 1, 4, 15, 5, 50, 13, 1, 59, 1, 97, 148, 45, 2, 30, 63, 2, 22, 23, 1, 1, 34, 2, 5, 11, 365, 8, 45, 1, 3, 3, 1, 3, 21, 89, 1, 10, 658, 5, 1, 2, 144, 1, 20, 160, 111, 51, 119, 675, 45, 7, 453, 6, 44, 17, 279, 706, 2, 188, 149, 35, 13, 2, 3, 52, 2, 20, 138, 3, 4, 201, 4, 105, 1, 1, 100, 22, 2, 32, 211, 1, 134, 16, 12, 16, 18, 28, 6, 111, 38, 1, 50, 1, 10, 1, 42, 49, 1, 2, 172, 127, 7, 1, 44, 17, 11, 9, 103, 21, 7, 68, 31, 1, 197, 1, 24, 16, 5, 44, 1, 398, 154, 124, 357, 3, 10, 2, 134, 159, 46, 4, 63, 1, 51, 1, 2, 432, 1, 10, 20, 52, 44, 1, 73, 80, 1, 73, 16, 31, 71, 83, 227, 1, 1, 11, 43, 2, 240, 3, 1, 1, 10, 36, 13, 633, 838, 1, 3, 21, 5, 43, 23, 142, 515, 71, 4, 1, 1, 49, 4, 136, 1, 12, 102, 1, 651, 1, 18, 1, 1, 1, 27, 8, 9, 190, 816, 76, 1, 14, 208, 50, 88, 4, 1, 4, 895, 14, 7, 9, 1, 2, 1, 201, 2, 1, 21, 5, 33, 44, 26, 185, 95, 26, 15, 1, 1, 1, 5, 1, 129, 19, 1, 65, 39, 67, 344, 33, 41, 39, 1164, 24, 8, 3, 77, 21, 40, 66, 1, 9, 500, 1, 13, 45, 207, 8, 119, 1, 65, 14, 492, 2, 35, 163, 2, 5, 1, 1, 31, 8, 382, 2, 17, 2, 8, 39, 1, 34, 5, 167, 1, 179, 26, 8, 67, 4, 1, 4, 1, 294, 4, 12, 15, 24, 25, 213, 350, 1, 65, 21, 10, 12, 8, 84, 1, 2, 39, 5, 21, 1, 18, 50, 7, 41, 1, 431, 41, 13, 34, 2, 1, 63, 1, 2, 63, 3, 38, 13, 31, 1, 5, 4, 29, 62, 26, 13, 108, 16, 1, 15, 19, 23, 40, 22, 8, 60, 7, 27, 164, 10, 67, 243, 1, 117, 82, 17, 14, 54, 30, 59, 12, 12, 198, 15, 7, 52, 1, 19, 7, 3, 26, 2, 50, 138, 275, 1, 148, 1, 6, 16, 30, 11, 1, 1, 1, 1, 2, 1, 3, 37, 2, 64, 175, 26, 375, 1, 2, 208, 23, 70, 183, 4, 35, 85, 98, 5, 48, 19, 1, 99, 29, 353, 1, 45, 23, 16, 23, 1, 52, 11, 265, 66, 219, 27, 8, 130, 1, 15, 1, 114, 722, 543, 628, 1, 5, 15, 5, 211, 1, 1, 64, 106, 19, 1428, 1, 2, 26, 2, 92, 235, 1, 4, 115, 2, 144, 215, 279, 24, 6, 123, 223, 5, 29, 405, 87, 1, 1, 1, 1, 49, 31, 20, 1, 84, 1, 28, 10, 1, 43, 12, 1, 48, 776, 153, 54, 1, 86, 46, 65, 312, 51, 143, 446, 22, 9, 81, 453, 9, 1, 119, 35, 146, 111, 1, 13, 7, 297, 1, 172, 7, 44, 1, 9, 3, 87, 2, 24, 146, 900, 9, 47, 69, 2, 1, 448, 223, 12, 1, 201, 1, 177, 5, 112, 107, 19, 177, 2, 10, 423, 364, 1, 723, 5, 75, 36, 6, 1, 54, 861, 77, 520, 11, 65, 1, 34, 142, 363, 50, 1, 41, 99, 304, 762, 56, 850, 487, 583, 1, 37, 111, 545, 7, 3, 16, 31, 98, 1, 8, 1089, 556, 5, 60, 46, 121, 26, 18, 499, 136, 188, 125, 10, 4, 329, 740, 5, 84, 13, 266, 8, 90, 6, 1, 1, 183, 1, 204, 612]\n"
          ]
        }
      ]
    },
    {
      "cell_type": "code",
      "source": [
        "arr = [1, 2, 4, 12, 5]\n",
        "print(arr)\n",
        "for n in arr:\n",
        "  if n == 2:\n",
        "    n = 3\n",
        "print(arr)\n",
        "for index, n in enumerate(arr):\n",
        "  if arr[index] == 2:\n",
        "    arr[index] = 3\n",
        "\n",
        "print(arr)"
      ],
      "metadata": {
        "colab": {
          "base_uri": "https://localhost:8080/"
        },
        "id": "06RBt0MuBfp-",
        "outputId": "ca49141f-9c81-4116-9dd8-1f65a5bf8dd9"
      },
      "execution_count": null,
      "outputs": [
        {
          "output_type": "stream",
          "name": "stdout",
          "text": [
            "[1, 2, 4, 12, 5]\n",
            "[1, 2, 4, 12, 5]\n",
            "[1, 3, 4, 12, 5]\n"
          ]
        }
      ]
    },
    {
      "cell_type": "markdown",
      "source": [
        "## Making graph"
      ],
      "metadata": {
        "id": "oLumfxTw6Tz4"
      }
    },
    {
      "cell_type": "markdown",
      "source": [
        "En caso fueran aleatorios, la generacion de grafos seria de la siguiente manera."
      ],
      "metadata": {
        "id": "rCEzVXpreqJL"
      }
    },
    {
      "cell_type": "code",
      "source": [
        "def detect(value, edges):\n",
        "  for edge in edges:\n",
        "    if value == edge:\n",
        "      return True\n",
        "  return False"
      ],
      "metadata": {
        "id": "zEBCX_ciZFB-"
      },
      "execution_count": null,
      "outputs": []
    },
    {
      "cell_type": "code",
      "source": [
        "def createGraph(nvertexes, nedges):\n",
        "  connections = data_graph(nedges, nvertexes)\n",
        "  G = []\n",
        "  for ivertex in range(nvertexes):\n",
        "    G.append([])\n",
        "    for iedge in range(connections[ivertex]):\n",
        "      randvert = random.randint(0, nvertexes - 1)\n",
        "      while(detect(randvert, G[-1]) or randvert == ivertex):\n",
        "        randvert = random.randint(0, nvertexes - 1)\n",
        "      G[-1].append(randvert)\n",
        "  return G"
      ],
      "metadata": {
        "id": "5R6706qYX_zQ"
      },
      "execution_count": null,
      "outputs": []
    },
    {
      "cell_type": "code",
      "source": [
        "data_graph(15, 5)"
      ],
      "metadata": {
        "colab": {
          "base_uri": "https://localhost:8080/"
        },
        "id": "rMYCPtirajLu",
        "outputId": "4ab786b6-4cc9-41e0-fe4c-199bcc320e40"
      },
      "execution_count": null,
      "outputs": [
        {
          "output_type": "execute_result",
          "data": {
            "text/plain": [
              "[4, 3, 4, 3, 1]"
            ]
          },
          "metadata": {},
          "execution_count": 10
        }
      ]
    },
    {
      "cell_type": "code",
      "source": [
        "myCity = createGraph(10, 80)\n",
        "sum = 0\n",
        "for node in myCity:\n",
        "  sum += len(node)\n",
        "print(sum)"
      ],
      "metadata": {
        "id": "K77OXWytaTuX",
        "colab": {
          "base_uri": "https://localhost:8080/"
        },
        "outputId": "745deb2e-bec5-489e-d38a-f1fc39cd5668"
      },
      "execution_count": null,
      "outputs": [
        {
          "output_type": "stream",
          "name": "stdout",
          "text": [
            "80\n"
          ]
        }
      ]
    },
    {
      "cell_type": "code",
      "source": [
        "def genGraph(N,M):\n",
        "  G = [[] for _ in range(N)]\n",
        "  arExistentes = []\n",
        "  aristas = 0\n",
        "  while aristas < M:\n",
        "    arista = [random.randint(0, N-1), random.randint(0, N-1)]\n",
        "    if arista[0] == arista[1]: continue\n",
        "    if arista in arExistentes: continue\n",
        "    G[arista[0]].append((arista[1]))\n",
        "    G[arista[1]].append((arista[0]))\n",
        "    arExistentes.append([arista[0],arista[1]])\n",
        "    arExistentes.append([arista[1],arista[0]])\n",
        "    aristas += 1;\n",
        "  return G"
      ],
      "metadata": {
        "id": "n6PVxZgwTEha"
      },
      "execution_count": null,
      "outputs": []
    },
    {
      "cell_type": "code",
      "source": [
        "genGraph(100,200)"
      ],
      "metadata": {
        "id": "cAYSyzAKT578"
      },
      "execution_count": null,
      "outputs": []
    },
    {
      "cell_type": "markdown",
      "source": [
        "# Real TP"
      ],
      "metadata": {
        "id": "REBSFhdt4NSL"
      }
    },
    {
      "cell_type": "code",
      "source": [
        "LstreetsH = [\n",
        "  \"W24th St \",\n",
        "  \"W25th St \",\n",
        "  \"W26th St \",\n",
        "  \"W27th St \",\n",
        "  \"W28th St \",\n",
        "  \"W29th St \",\n",
        "  \"W30th St \",\n",
        "  \"W31th St \",\n",
        "  \"W32th St \",\n",
        "  \"W33th St \",\n",
        "  \"W34th St \",\n",
        "  \"W35th St \",\n",
        "  \"W36th St \",\n",
        "  \"W37th St \",\n",
        "  \"W38th St \",\n",
        "  \"W39th St \",\n",
        "  \"W40th St \",\n",
        "  \"W41th St \",\n",
        "  \"W42th St \",\n",
        "  \"W43th St \",\n",
        "  \"W44th St \",\n",
        "  \"W45th St \",\n",
        "  \"W50th St \",\n",
        "  \"W51th St \",\n",
        "  \"W52th St \",\n",
        "  \"W53th St \",\n",
        "  \"W54th St \",\n",
        "  \"W55th St \",\n",
        "  \"W56th St \",\n",
        "  \"W57th St \"\n",
        "]\n",
        "\n",
        "LstreetsV = [\n",
        "  \"12th Avenue\",\n",
        "  \"11th Avenue\",\n",
        "  \"10th Avenue\",\n",
        "  \"9th Avenue\",\n",
        "  \"8th Avenue\",\n",
        "  \"7th Avenue\" ,\n",
        "  \"6th Avenue\",\n",
        "  \"5th Avenue\",\n",
        "  \"Madison Avenue \",\n",
        "  \"Park Avenue S\",\n",
        "  \"Lexington Avenue\",\n",
        "  \"3rd Avenue S\",\n",
        "  \"2nd Avenue S\",\n",
        "  \"1st Avenue S\"\n",
        "]\n",
        "\n",
        "GstreetsH =[\n",
        "  \"W57th St \",\n",
        "  \"W58th St \",\n",
        "  \"W59th St \",\n",
        "  \"W60th St \",\n",
        "  \"W61th St \",\n",
        "  \"W62th St \",\n",
        "  \"W63th St \",\n",
        "  \"W64th St \",\n",
        "  \"W65th St \",\n",
        "  \"W66th St \",\n",
        "  \"W67th St \",\n",
        "  \"W68th St \",\n",
        "  \"W69th St \",\n",
        "  \"W70th St \",\n",
        "  \"W71th St \",\n",
        "  \"W72th St \",\n",
        "  \"W73th St \",\n",
        "  \"W74th St \",\n",
        "  \"W75th St \",\n",
        "  \"W76th St \",\n",
        "  \"W77th St \",\n",
        "  \"W78th St \",\n",
        "  \"W79th St \",\n",
        "  \"W80th St \",\n",
        "  \"W81th St \",\n",
        "  \"W82th St \",\n",
        "  \"W83th St \",\n",
        "  \"W84th St \",\n",
        "  \"W85th St \",\n",
        "  \"W86th St \",\n",
        "  \"W87th St \",\n",
        "  \"W88th St \",\n",
        "  \"W89th St \",\n",
        "  \"W90th St \",\n",
        "  \"W91th St \",\n",
        "  \"W92th St \",\n",
        "  \"W93th St \",\n",
        "  \"W94th St \",\n",
        "  \"W95th St \",\n",
        "  \"W96th St \",\n",
        "  \"W97th St \",\n",
        "  \"W98th St \",\n",
        "  \"W99th St \",\n",
        "  \"W100th St \",\n",
        "  \"W101th St \",\n",
        "  \"W102th St \",\n",
        "  \"W103th St \",\n",
        "  \"W104th St \",\n",
        "  \"W105th St \",\n",
        "  \"W106th St \",\n",
        "  \"W107th St \",\n",
        "  \"W108th St \",\n",
        "  \"W109th St \",\n",
        "  \"W110th St \"\n",
        "]\n",
        "\n",
        "GstreetsV =[\n",
        "  \"10th Avenue\",\n",
        "  \"9th Avenue\",\n",
        "  \"8th Avenue\"\n",
        "]\n",
        "\n",
        "BstreetsH =[\n",
        "  \"E57th St \",\n",
        "  \"E58th St \",\n",
        "  \"E59th St \",\n",
        "  \"E60th St \",\n",
        "  \"E61th St \",\n",
        "  \"E62th St \",\n",
        "  \"E63th St \",\n",
        "  \"E64th St \",\n",
        "  \"E65th St \",\n",
        "  \"E66th St \",\n",
        "  \"E67th St \",\n",
        "  \"E68th St \",\n",
        "  \"E69th St \",\n",
        "  \"E70th St \",\n",
        "  \"E71th St \",\n",
        "  \"E72th St \",\n",
        "  \"E73th St \",\n",
        "  \"E74th St \",\n",
        "  \"E75th St \",\n",
        "  \"E76th St \",\n",
        "  \"E77th St \",\n",
        "  \"E78th St \",\n",
        "  \"E79th St \",\n",
        "  \"E80th St \",\n",
        "  \"E81th St \",\n",
        "  \"E82th St \",\n",
        "  \"E83th St \",\n",
        "  \"E84th St \",\n",
        "  \"E85th St \",\n",
        "  \"E86th St \",\n",
        "  \"E87th St \",\n",
        "  \"E88th St \",\n",
        "  \"E89th St \",\n",
        "  \"E90th St \",\n",
        "  \"E91th St \",\n",
        "  \"E92th St \",\n",
        "  \"E93th St \",\n",
        "  \"E94th St \",\n",
        "  \"E95th St \",\n",
        "  \"E96th St \",\n",
        "  \"E97th St \",\n",
        "  \"E98th St \",\n",
        "  \"E99th St \",\n",
        "  \"E100th St \",\n",
        "  \"E101th St \",\n",
        "  \"E102th St \",\n",
        "  \"E103th St \",\n",
        "  \"E104th St \",\n",
        "  \"E105th St \",\n",
        "  \"E106th St \",\n",
        "  \"E107th St \",\n",
        "  \"E108th St \",\n",
        "  \"E109th St \",\n",
        "  \"E110th St \"\n",
        "]\n",
        "\n",
        "BstreetsV =[\n",
        "  \"5th Avenue\",\n",
        "  \"Madison Avenue\",\n",
        "  \"Park Avenue\",\n",
        "  \"Lexington Avenue\",\n",
        "  \"3rd Avenue\",\n",
        "  \"2nd Avenue\",\n",
        "  \"1st Avenue\"\n",
        "]\n",
        "\n",
        "EstreetsH = [\n",
        "  \"E110th St \",\n",
        "  \"E111th St \",\n",
        "  \"E112th St \",\n",
        "  \"E113th St \",\n",
        "  \"E114th St \",\n",
        "  \"E115th St \",\n",
        "  \"E116th St \",\n",
        "  \"E117th St \",\n",
        "  \"E118th St \",\n",
        "  \"E119th St \",\n",
        "  \"E120th St \",\n",
        "  \"E121th St \",\n",
        "  \"E122th St \",\n",
        "  \"E123th St \",\n",
        "  \"E124th St \",\n",
        "  \"E125th St \"\n",
        "            \n",
        "]\n",
        "EstreetsV = [\n",
        "  \"Manhattan Avenue\",\n",
        "  \"Frederick Douglass Blvd\",\n",
        "  \"Adam Clayton Blvd\",\n",
        "  \"Lenox Avenue\",\n",
        "  \"5th Avenue\",\n",
        "  \"Madison Avenue\",\n",
        "  \"Park Avenue\",\n",
        "  \"Lexington Avenue\",\n",
        "  \"3rd Avenue\",\n",
        "  \"2nd Avenue\",\n",
        "  \"1st Avenue\"\n",
        "]\n",
        "\n",
        "AstreetsH = [\n",
        "  \"W1st St \",\n",
        "  \"W2nd St \",\n",
        "  \"W3rd St \",\n",
        "  \"W4th St \",\n",
        "  \"W5th St \",\n",
        "  \"W6th St \",\n",
        "  \"W7th St \",\n",
        "  \"W8th St \",\n",
        "  \"W9th St \",\n",
        "  \"W10th St \",\n",
        "  \"W11th St \",\n",
        "  \"W12th St \",\n",
        "  \"W13th St \",\n",
        "  \"W14th St \",\n",
        "  \"W15th St \",\n",
        "  \"W16th St \",\n",
        "  \"W17th St \",\n",
        "  \"W18th St \",\n",
        "  \"W19th St \",\n",
        "  \"W20th St \",\n",
        "  \"W21th St \",\n",
        "  \"W22th St \",\n",
        "  \"W23th St \",\n",
        "]\n",
        "AstreetsV = [\n",
        "  \"10th Avenue\",\n",
        "  \"9th Avenue\",\n",
        "  \"8th Avenue\",\n",
        "  \"7th Avenue\",\n",
        "  \"6th Avenue\",\n",
        "  \"5th Avenue\",\n",
        "  \"Park Avenue\",\n",
        "  \"Lexington Avenue\",\n",
        "  \"3rd Avenue\",\n",
        "  \"2nd Avenue\",\n",
        "  \"1st Avenue\"\n",
        "]\n"
      ],
      "metadata": {
        "id": "MG-IzJMn4P6a"
      },
      "execution_count": null,
      "outputs": []
    },
    {
      "cell_type": "code",
      "source": [
        "def makeSquare(streetsV, streetsH):\n",
        "  corners = []\n",
        "  for streetV in streetsV:\n",
        "    for streetH in streetsH:\n",
        "      corners.append([streetH, streetV]);\n",
        "  return corners\n"
      ],
      "metadata": {
        "id": "jz0lcnfL73yB"
      },
      "execution_count": null,
      "outputs": []
    },
    {
      "cell_type": "code",
      "source": [
        "leo_corners = makeSquare(LstreetsV, LstreetsH)\n",
        "g_corners = makeSquare(GstreetsV, GstreetsH)\n",
        "b_corners = makeSquare(BstreetsV, BstreetsH)\n",
        "e_corners = makeSquare(EstreetsV, EstreetsH)\n",
        "a_corners = makeSquare(AstreetsV, AstreetsH)\n",
        "print(\"len\", len(e_corners), e_corners)\n",
        "print(\"len\", len(g_corners), g_corners)\n",
        "print(\"len\", len(b_corners), b_corners)\n",
        "print(\"len\", len(leo_corners), leo_corners)\n",
        "print(\"len\", len(a_corners), a_corners)\n",
        "shape = leo_corners + a_corners + g_corners + b_corners + e_corners\n",
        "res = [i for n, i in enumerate(shape) if i not in shape[:n]]\n",
        "print(res)"
      ],
      "metadata": {
        "colab": {
          "base_uri": "https://localhost:8080/"
        },
        "id": "w4vY5Mm05MiS",
        "outputId": "3783ae4b-d2d0-4b33-bd56-3c35ed038064"
      },
      "execution_count": null,
      "outputs": [
        {
          "output_type": "stream",
          "name": "stdout",
          "text": [
            "len 176 [['E110th St ', 'Manhattan Avenue'], ['E111th St ', 'Manhattan Avenue'], ['E112th St ', 'Manhattan Avenue'], ['E113th St ', 'Manhattan Avenue'], ['E114th St ', 'Manhattan Avenue'], ['E115th St ', 'Manhattan Avenue'], ['E116th St ', 'Manhattan Avenue'], ['E117th St ', 'Manhattan Avenue'], ['E118th St ', 'Manhattan Avenue'], ['E119th St ', 'Manhattan Avenue'], ['E120th St ', 'Manhattan Avenue'], ['E121th St ', 'Manhattan Avenue'], ['E122th St ', 'Manhattan Avenue'], ['E123th St ', 'Manhattan Avenue'], ['E124th St ', 'Manhattan Avenue'], ['E125th St ', 'Manhattan Avenue'], ['E110th St ', 'Frederick Douglass Blvd'], ['E111th St ', 'Frederick Douglass Blvd'], ['E112th St ', 'Frederick Douglass Blvd'], ['E113th St ', 'Frederick Douglass Blvd'], ['E114th St ', 'Frederick Douglass Blvd'], ['E115th St ', 'Frederick Douglass Blvd'], ['E116th St ', 'Frederick Douglass Blvd'], ['E117th St ', 'Frederick Douglass Blvd'], ['E118th St ', 'Frederick Douglass Blvd'], ['E119th St ', 'Frederick Douglass Blvd'], ['E120th St ', 'Frederick Douglass Blvd'], ['E121th St ', 'Frederick Douglass Blvd'], ['E122th St ', 'Frederick Douglass Blvd'], ['E123th St ', 'Frederick Douglass Blvd'], ['E124th St ', 'Frederick Douglass Blvd'], ['E125th St ', 'Frederick Douglass Blvd'], ['E110th St ', 'Adam Clayton Blvd'], ['E111th St ', 'Adam Clayton Blvd'], ['E112th St ', 'Adam Clayton Blvd'], ['E113th St ', 'Adam Clayton Blvd'], ['E114th St ', 'Adam Clayton Blvd'], ['E115th St ', 'Adam Clayton Blvd'], ['E116th St ', 'Adam Clayton Blvd'], ['E117th St ', 'Adam Clayton Blvd'], ['E118th St ', 'Adam Clayton Blvd'], ['E119th St ', 'Adam Clayton Blvd'], ['E120th St ', 'Adam Clayton Blvd'], ['E121th St ', 'Adam Clayton Blvd'], ['E122th St ', 'Adam Clayton Blvd'], ['E123th St ', 'Adam Clayton Blvd'], ['E124th St ', 'Adam Clayton Blvd'], ['E125th St ', 'Adam Clayton Blvd'], ['E110th St ', 'Lenox Avenue'], ['E111th St ', 'Lenox Avenue'], ['E112th St ', 'Lenox Avenue'], ['E113th St ', 'Lenox Avenue'], ['E114th St ', 'Lenox Avenue'], ['E115th St ', 'Lenox Avenue'], ['E116th St ', 'Lenox Avenue'], ['E117th St ', 'Lenox Avenue'], ['E118th St ', 'Lenox Avenue'], ['E119th St ', 'Lenox Avenue'], ['E120th St ', 'Lenox Avenue'], ['E121th St ', 'Lenox Avenue'], ['E122th St ', 'Lenox Avenue'], ['E123th St ', 'Lenox Avenue'], ['E124th St ', 'Lenox Avenue'], ['E125th St ', 'Lenox Avenue'], ['E110th St ', '5th Avenue'], ['E111th St ', '5th Avenue'], ['E112th St ', '5th Avenue'], ['E113th St ', '5th Avenue'], ['E114th St ', '5th Avenue'], ['E115th St ', '5th Avenue'], ['E116th St ', '5th Avenue'], ['E117th St ', '5th Avenue'], ['E118th St ', '5th Avenue'], ['E119th St ', '5th Avenue'], ['E120th St ', '5th Avenue'], ['E121th St ', '5th Avenue'], ['E122th St ', '5th Avenue'], ['E123th St ', '5th Avenue'], ['E124th St ', '5th Avenue'], ['E125th St ', '5th Avenue'], ['E110th St ', 'Madison Avenue'], ['E111th St ', 'Madison Avenue'], ['E112th St ', 'Madison Avenue'], ['E113th St ', 'Madison Avenue'], ['E114th St ', 'Madison Avenue'], ['E115th St ', 'Madison Avenue'], ['E116th St ', 'Madison Avenue'], ['E117th St ', 'Madison Avenue'], ['E118th St ', 'Madison Avenue'], ['E119th St ', 'Madison Avenue'], ['E120th St ', 'Madison Avenue'], ['E121th St ', 'Madison Avenue'], ['E122th St ', 'Madison Avenue'], ['E123th St ', 'Madison Avenue'], ['E124th St ', 'Madison Avenue'], ['E125th St ', 'Madison Avenue'], ['E110th St ', 'Park Avenue'], ['E111th St ', 'Park Avenue'], ['E112th St ', 'Park Avenue'], ['E113th St ', 'Park Avenue'], ['E114th St ', 'Park Avenue'], ['E115th St ', 'Park Avenue'], ['E116th St ', 'Park Avenue'], ['E117th St ', 'Park Avenue'], ['E118th St ', 'Park Avenue'], ['E119th St ', 'Park Avenue'], ['E120th St ', 'Park Avenue'], ['E121th St ', 'Park Avenue'], ['E122th St ', 'Park Avenue'], ['E123th St ', 'Park Avenue'], ['E124th St ', 'Park Avenue'], ['E125th St ', 'Park Avenue'], ['E110th St ', 'Lexington Avenue'], ['E111th St ', 'Lexington Avenue'], ['E112th St ', 'Lexington Avenue'], ['E113th St ', 'Lexington Avenue'], ['E114th St ', 'Lexington Avenue'], ['E115th St ', 'Lexington Avenue'], ['E116th St ', 'Lexington Avenue'], ['E117th St ', 'Lexington Avenue'], ['E118th St ', 'Lexington Avenue'], ['E119th St ', 'Lexington Avenue'], ['E120th St ', 'Lexington Avenue'], ['E121th St ', 'Lexington Avenue'], ['E122th St ', 'Lexington Avenue'], ['E123th St ', 'Lexington Avenue'], ['E124th St ', 'Lexington Avenue'], ['E125th St ', 'Lexington Avenue'], ['E110th St ', '3rd Avenue'], ['E111th St ', '3rd Avenue'], ['E112th St ', '3rd Avenue'], ['E113th St ', '3rd Avenue'], ['E114th St ', '3rd Avenue'], ['E115th St ', '3rd Avenue'], ['E116th St ', '3rd Avenue'], ['E117th St ', '3rd Avenue'], ['E118th St ', '3rd Avenue'], ['E119th St ', '3rd Avenue'], ['E120th St ', '3rd Avenue'], ['E121th St ', '3rd Avenue'], ['E122th St ', '3rd Avenue'], ['E123th St ', '3rd Avenue'], ['E124th St ', '3rd Avenue'], ['E125th St ', '3rd Avenue'], ['E110th St ', '2nd Avenue'], ['E111th St ', '2nd Avenue'], ['E112th St ', '2nd Avenue'], ['E113th St ', '2nd Avenue'], ['E114th St ', '2nd Avenue'], ['E115th St ', '2nd Avenue'], ['E116th St ', '2nd Avenue'], ['E117th St ', '2nd Avenue'], ['E118th St ', '2nd Avenue'], ['E119th St ', '2nd Avenue'], ['E120th St ', '2nd Avenue'], ['E121th St ', '2nd Avenue'], ['E122th St ', '2nd Avenue'], ['E123th St ', '2nd Avenue'], ['E124th St ', '2nd Avenue'], ['E125th St ', '2nd Avenue'], ['E110th St ', '1st Avenue'], ['E111th St ', '1st Avenue'], ['E112th St ', '1st Avenue'], ['E113th St ', '1st Avenue'], ['E114th St ', '1st Avenue'], ['E115th St ', '1st Avenue'], ['E116th St ', '1st Avenue'], ['E117th St ', '1st Avenue'], ['E118th St ', '1st Avenue'], ['E119th St ', '1st Avenue'], ['E120th St ', '1st Avenue'], ['E121th St ', '1st Avenue'], ['E122th St ', '1st Avenue'], ['E123th St ', '1st Avenue'], ['E124th St ', '1st Avenue'], ['E125th St ', '1st Avenue']]\n",
            "len 162 [['W57th St ', '10th Avenue'], ['W58th St ', '10th Avenue'], ['W59th St ', '10th Avenue'], ['W60th St ', '10th Avenue'], ['W61th St ', '10th Avenue'], ['W62th St ', '10th Avenue'], ['W63th St ', '10th Avenue'], ['W64th St ', '10th Avenue'], ['W65th St ', '10th Avenue'], ['W66th St ', '10th Avenue'], ['W67th St ', '10th Avenue'], ['W68th St ', '10th Avenue'], ['W69th St ', '10th Avenue'], ['W70th St ', '10th Avenue'], ['W71th St ', '10th Avenue'], ['W72th St ', '10th Avenue'], ['W73th St ', '10th Avenue'], ['W74th St ', '10th Avenue'], ['W75th St ', '10th Avenue'], ['W76th St ', '10th Avenue'], ['W77th St ', '10th Avenue'], ['W78th St ', '10th Avenue'], ['W79th St ', '10th Avenue'], ['W80th St ', '10th Avenue'], ['W81th St ', '10th Avenue'], ['W82th St ', '10th Avenue'], ['W83th St ', '10th Avenue'], ['W84th St ', '10th Avenue'], ['W85th St ', '10th Avenue'], ['W86th St ', '10th Avenue'], ['W87th St ', '10th Avenue'], ['W88th St ', '10th Avenue'], ['W89th St ', '10th Avenue'], ['W90th St ', '10th Avenue'], ['W91th St ', '10th Avenue'], ['W92th St ', '10th Avenue'], ['W93th St ', '10th Avenue'], ['W94th St ', '10th Avenue'], ['W95th St ', '10th Avenue'], ['W96th St ', '10th Avenue'], ['W97th St ', '10th Avenue'], ['W98th St ', '10th Avenue'], ['W99th St ', '10th Avenue'], ['W100th St ', '10th Avenue'], ['W101th St ', '10th Avenue'], ['W102th St ', '10th Avenue'], ['W103th St ', '10th Avenue'], ['W104th St ', '10th Avenue'], ['W105th St ', '10th Avenue'], ['W106th St ', '10th Avenue'], ['W107th St ', '10th Avenue'], ['W108th St ', '10th Avenue'], ['W109th St ', '10th Avenue'], ['W110th St ', '10th Avenue'], ['W57th St ', '9th Avenue'], ['W58th St ', '9th Avenue'], ['W59th St ', '9th Avenue'], ['W60th St ', '9th Avenue'], ['W61th St ', '9th Avenue'], ['W62th St ', '9th Avenue'], ['W63th St ', '9th Avenue'], ['W64th St ', '9th Avenue'], ['W65th St ', '9th Avenue'], ['W66th St ', '9th Avenue'], ['W67th St ', '9th Avenue'], ['W68th St ', '9th Avenue'], ['W69th St ', '9th Avenue'], ['W70th St ', '9th Avenue'], ['W71th St ', '9th Avenue'], ['W72th St ', '9th Avenue'], ['W73th St ', '9th Avenue'], ['W74th St ', '9th Avenue'], ['W75th St ', '9th Avenue'], ['W76th St ', '9th Avenue'], ['W77th St ', '9th Avenue'], ['W78th St ', '9th Avenue'], ['W79th St ', '9th Avenue'], ['W80th St ', '9th Avenue'], ['W81th St ', '9th Avenue'], ['W82th St ', '9th Avenue'], ['W83th St ', '9th Avenue'], ['W84th St ', '9th Avenue'], ['W85th St ', '9th Avenue'], ['W86th St ', '9th Avenue'], ['W87th St ', '9th Avenue'], ['W88th St ', '9th Avenue'], ['W89th St ', '9th Avenue'], ['W90th St ', '9th Avenue'], ['W91th St ', '9th Avenue'], ['W92th St ', '9th Avenue'], ['W93th St ', '9th Avenue'], ['W94th St ', '9th Avenue'], ['W95th St ', '9th Avenue'], ['W96th St ', '9th Avenue'], ['W97th St ', '9th Avenue'], ['W98th St ', '9th Avenue'], ['W99th St ', '9th Avenue'], ['W100th St ', '9th Avenue'], ['W101th St ', '9th Avenue'], ['W102th St ', '9th Avenue'], ['W103th St ', '9th Avenue'], ['W104th St ', '9th Avenue'], ['W105th St ', '9th Avenue'], ['W106th St ', '9th Avenue'], ['W107th St ', '9th Avenue'], ['W108th St ', '9th Avenue'], ['W109th St ', '9th Avenue'], ['W110th St ', '9th Avenue'], ['W57th St ', '8th Avenue'], ['W58th St ', '8th Avenue'], ['W59th St ', '8th Avenue'], ['W60th St ', '8th Avenue'], ['W61th St ', '8th Avenue'], ['W62th St ', '8th Avenue'], ['W63th St ', '8th Avenue'], ['W64th St ', '8th Avenue'], ['W65th St ', '8th Avenue'], ['W66th St ', '8th Avenue'], ['W67th St ', '8th Avenue'], ['W68th St ', '8th Avenue'], ['W69th St ', '8th Avenue'], ['W70th St ', '8th Avenue'], ['W71th St ', '8th Avenue'], ['W72th St ', '8th Avenue'], ['W73th St ', '8th Avenue'], ['W74th St ', '8th Avenue'], ['W75th St ', '8th Avenue'], ['W76th St ', '8th Avenue'], ['W77th St ', '8th Avenue'], ['W78th St ', '8th Avenue'], ['W79th St ', '8th Avenue'], ['W80th St ', '8th Avenue'], ['W81th St ', '8th Avenue'], ['W82th St ', '8th Avenue'], ['W83th St ', '8th Avenue'], ['W84th St ', '8th Avenue'], ['W85th St ', '8th Avenue'], ['W86th St ', '8th Avenue'], ['W87th St ', '8th Avenue'], ['W88th St ', '8th Avenue'], ['W89th St ', '8th Avenue'], ['W90th St ', '8th Avenue'], ['W91th St ', '8th Avenue'], ['W92th St ', '8th Avenue'], ['W93th St ', '8th Avenue'], ['W94th St ', '8th Avenue'], ['W95th St ', '8th Avenue'], ['W96th St ', '8th Avenue'], ['W97th St ', '8th Avenue'], ['W98th St ', '8th Avenue'], ['W99th St ', '8th Avenue'], ['W100th St ', '8th Avenue'], ['W101th St ', '8th Avenue'], ['W102th St ', '8th Avenue'], ['W103th St ', '8th Avenue'], ['W104th St ', '8th Avenue'], ['W105th St ', '8th Avenue'], ['W106th St ', '8th Avenue'], ['W107th St ', '8th Avenue'], ['W108th St ', '8th Avenue'], ['W109th St ', '8th Avenue'], ['W110th St ', '8th Avenue']]\n",
            "len 378 [['E57th St ', '5th Avenue'], ['E58th St ', '5th Avenue'], ['E59th St ', '5th Avenue'], ['E60th St ', '5th Avenue'], ['E61th St ', '5th Avenue'], ['E62th St ', '5th Avenue'], ['E63th St ', '5th Avenue'], ['E64th St ', '5th Avenue'], ['E65th St ', '5th Avenue'], ['E66th St ', '5th Avenue'], ['E67th St ', '5th Avenue'], ['E68th St ', '5th Avenue'], ['E69th St ', '5th Avenue'], ['E70th St ', '5th Avenue'], ['E71th St ', '5th Avenue'], ['E72th St ', '5th Avenue'], ['E73th St ', '5th Avenue'], ['E74th St ', '5th Avenue'], ['E75th St ', '5th Avenue'], ['E76th St ', '5th Avenue'], ['E77th St ', '5th Avenue'], ['E78th St ', '5th Avenue'], ['E79th St ', '5th Avenue'], ['E80th St ', '5th Avenue'], ['E81th St ', '5th Avenue'], ['E82th St ', '5th Avenue'], ['E83th St ', '5th Avenue'], ['E84th St ', '5th Avenue'], ['E85th St ', '5th Avenue'], ['E86th St ', '5th Avenue'], ['E87th St ', '5th Avenue'], ['E88th St ', '5th Avenue'], ['E89th St ', '5th Avenue'], ['E90th St ', '5th Avenue'], ['E91th St ', '5th Avenue'], ['E92th St ', '5th Avenue'], ['E93th St ', '5th Avenue'], ['E94th St ', '5th Avenue'], ['E95th St ', '5th Avenue'], ['E96th St ', '5th Avenue'], ['E97th St ', '5th Avenue'], ['E98th St ', '5th Avenue'], ['E99th St ', '5th Avenue'], ['E100th St ', '5th Avenue'], ['E101th St ', '5th Avenue'], ['E102th St ', '5th Avenue'], ['E103th St ', '5th Avenue'], ['E104th St ', '5th Avenue'], ['E105th St ', '5th Avenue'], ['E106th St ', '5th Avenue'], ['E107th St ', '5th Avenue'], ['E108th St ', '5th Avenue'], ['E109th St ', '5th Avenue'], ['E110th St ', '5th Avenue'], ['E57th St ', 'Madison Avenue'], ['E58th St ', 'Madison Avenue'], ['E59th St ', 'Madison Avenue'], ['E60th St ', 'Madison Avenue'], ['E61th St ', 'Madison Avenue'], ['E62th St ', 'Madison Avenue'], ['E63th St ', 'Madison Avenue'], ['E64th St ', 'Madison Avenue'], ['E65th St ', 'Madison Avenue'], ['E66th St ', 'Madison Avenue'], ['E67th St ', 'Madison Avenue'], ['E68th St ', 'Madison Avenue'], ['E69th St ', 'Madison Avenue'], ['E70th St ', 'Madison Avenue'], ['E71th St ', 'Madison Avenue'], ['E72th St ', 'Madison Avenue'], ['E73th St ', 'Madison Avenue'], ['E74th St ', 'Madison Avenue'], ['E75th St ', 'Madison Avenue'], ['E76th St ', 'Madison Avenue'], ['E77th St ', 'Madison Avenue'], ['E78th St ', 'Madison Avenue'], ['E79th St ', 'Madison Avenue'], ['E80th St ', 'Madison Avenue'], ['E81th St ', 'Madison Avenue'], ['E82th St ', 'Madison Avenue'], ['E83th St ', 'Madison Avenue'], ['E84th St ', 'Madison Avenue'], ['E85th St ', 'Madison Avenue'], ['E86th St ', 'Madison Avenue'], ['E87th St ', 'Madison Avenue'], ['E88th St ', 'Madison Avenue'], ['E89th St ', 'Madison Avenue'], ['E90th St ', 'Madison Avenue'], ['E91th St ', 'Madison Avenue'], ['E92th St ', 'Madison Avenue'], ['E93th St ', 'Madison Avenue'], ['E94th St ', 'Madison Avenue'], ['E95th St ', 'Madison Avenue'], ['E96th St ', 'Madison Avenue'], ['E97th St ', 'Madison Avenue'], ['E98th St ', 'Madison Avenue'], ['E99th St ', 'Madison Avenue'], ['E100th St ', 'Madison Avenue'], ['E101th St ', 'Madison Avenue'], ['E102th St ', 'Madison Avenue'], ['E103th St ', 'Madison Avenue'], ['E104th St ', 'Madison Avenue'], ['E105th St ', 'Madison Avenue'], ['E106th St ', 'Madison Avenue'], ['E107th St ', 'Madison Avenue'], ['E108th St ', 'Madison Avenue'], ['E109th St ', 'Madison Avenue'], ['E110th St ', 'Madison Avenue'], ['E57th St ', 'Park Avenue'], ['E58th St ', 'Park Avenue'], ['E59th St ', 'Park Avenue'], ['E60th St ', 'Park Avenue'], ['E61th St ', 'Park Avenue'], ['E62th St ', 'Park Avenue'], ['E63th St ', 'Park Avenue'], ['E64th St ', 'Park Avenue'], ['E65th St ', 'Park Avenue'], ['E66th St ', 'Park Avenue'], ['E67th St ', 'Park Avenue'], ['E68th St ', 'Park Avenue'], ['E69th St ', 'Park Avenue'], ['E70th St ', 'Park Avenue'], ['E71th St ', 'Park Avenue'], ['E72th St ', 'Park Avenue'], ['E73th St ', 'Park Avenue'], ['E74th St ', 'Park Avenue'], ['E75th St ', 'Park Avenue'], ['E76th St ', 'Park Avenue'], ['E77th St ', 'Park Avenue'], ['E78th St ', 'Park Avenue'], ['E79th St ', 'Park Avenue'], ['E80th St ', 'Park Avenue'], ['E81th St ', 'Park Avenue'], ['E82th St ', 'Park Avenue'], ['E83th St ', 'Park Avenue'], ['E84th St ', 'Park Avenue'], ['E85th St ', 'Park Avenue'], ['E86th St ', 'Park Avenue'], ['E87th St ', 'Park Avenue'], ['E88th St ', 'Park Avenue'], ['E89th St ', 'Park Avenue'], ['E90th St ', 'Park Avenue'], ['E91th St ', 'Park Avenue'], ['E92th St ', 'Park Avenue'], ['E93th St ', 'Park Avenue'], ['E94th St ', 'Park Avenue'], ['E95th St ', 'Park Avenue'], ['E96th St ', 'Park Avenue'], ['E97th St ', 'Park Avenue'], ['E98th St ', 'Park Avenue'], ['E99th St ', 'Park Avenue'], ['E100th St ', 'Park Avenue'], ['E101th St ', 'Park Avenue'], ['E102th St ', 'Park Avenue'], ['E103th St ', 'Park Avenue'], ['E104th St ', 'Park Avenue'], ['E105th St ', 'Park Avenue'], ['E106th St ', 'Park Avenue'], ['E107th St ', 'Park Avenue'], ['E108th St ', 'Park Avenue'], ['E109th St ', 'Park Avenue'], ['E110th St ', 'Park Avenue'], ['E57th St ', 'Lexington Avenue'], ['E58th St ', 'Lexington Avenue'], ['E59th St ', 'Lexington Avenue'], ['E60th St ', 'Lexington Avenue'], ['E61th St ', 'Lexington Avenue'], ['E62th St ', 'Lexington Avenue'], ['E63th St ', 'Lexington Avenue'], ['E64th St ', 'Lexington Avenue'], ['E65th St ', 'Lexington Avenue'], ['E66th St ', 'Lexington Avenue'], ['E67th St ', 'Lexington Avenue'], ['E68th St ', 'Lexington Avenue'], ['E69th St ', 'Lexington Avenue'], ['E70th St ', 'Lexington Avenue'], ['E71th St ', 'Lexington Avenue'], ['E72th St ', 'Lexington Avenue'], ['E73th St ', 'Lexington Avenue'], ['E74th St ', 'Lexington Avenue'], ['E75th St ', 'Lexington Avenue'], ['E76th St ', 'Lexington Avenue'], ['E77th St ', 'Lexington Avenue'], ['E78th St ', 'Lexington Avenue'], ['E79th St ', 'Lexington Avenue'], ['E80th St ', 'Lexington Avenue'], ['E81th St ', 'Lexington Avenue'], ['E82th St ', 'Lexington Avenue'], ['E83th St ', 'Lexington Avenue'], ['E84th St ', 'Lexington Avenue'], ['E85th St ', 'Lexington Avenue'], ['E86th St ', 'Lexington Avenue'], ['E87th St ', 'Lexington Avenue'], ['E88th St ', 'Lexington Avenue'], ['E89th St ', 'Lexington Avenue'], ['E90th St ', 'Lexington Avenue'], ['E91th St ', 'Lexington Avenue'], ['E92th St ', 'Lexington Avenue'], ['E93th St ', 'Lexington Avenue'], ['E94th St ', 'Lexington Avenue'], ['E95th St ', 'Lexington Avenue'], ['E96th St ', 'Lexington Avenue'], ['E97th St ', 'Lexington Avenue'], ['E98th St ', 'Lexington Avenue'], ['E99th St ', 'Lexington Avenue'], ['E100th St ', 'Lexington Avenue'], ['E101th St ', 'Lexington Avenue'], ['E102th St ', 'Lexington Avenue'], ['E103th St ', 'Lexington Avenue'], ['E104th St ', 'Lexington Avenue'], ['E105th St ', 'Lexington Avenue'], ['E106th St ', 'Lexington Avenue'], ['E107th St ', 'Lexington Avenue'], ['E108th St ', 'Lexington Avenue'], ['E109th St ', 'Lexington Avenue'], ['E110th St ', 'Lexington Avenue'], ['E57th St ', '3rd Avenue'], ['E58th St ', '3rd Avenue'], ['E59th St ', '3rd Avenue'], ['E60th St ', '3rd Avenue'], ['E61th St ', '3rd Avenue'], ['E62th St ', '3rd Avenue'], ['E63th St ', '3rd Avenue'], ['E64th St ', '3rd Avenue'], ['E65th St ', '3rd Avenue'], ['E66th St ', '3rd Avenue'], ['E67th St ', '3rd Avenue'], ['E68th St ', '3rd Avenue'], ['E69th St ', '3rd Avenue'], ['E70th St ', '3rd Avenue'], ['E71th St ', '3rd Avenue'], ['E72th St ', '3rd Avenue'], ['E73th St ', '3rd Avenue'], ['E74th St ', '3rd Avenue'], ['E75th St ', '3rd Avenue'], ['E76th St ', '3rd Avenue'], ['E77th St ', '3rd Avenue'], ['E78th St ', '3rd Avenue'], ['E79th St ', '3rd Avenue'], ['E80th St ', '3rd Avenue'], ['E81th St ', '3rd Avenue'], ['E82th St ', '3rd Avenue'], ['E83th St ', '3rd Avenue'], ['E84th St ', '3rd Avenue'], ['E85th St ', '3rd Avenue'], ['E86th St ', '3rd Avenue'], ['E87th St ', '3rd Avenue'], ['E88th St ', '3rd Avenue'], ['E89th St ', '3rd Avenue'], ['E90th St ', '3rd Avenue'], ['E91th St ', '3rd Avenue'], ['E92th St ', '3rd Avenue'], ['E93th St ', '3rd Avenue'], ['E94th St ', '3rd Avenue'], ['E95th St ', '3rd Avenue'], ['E96th St ', '3rd Avenue'], ['E97th St ', '3rd Avenue'], ['E98th St ', '3rd Avenue'], ['E99th St ', '3rd Avenue'], ['E100th St ', '3rd Avenue'], ['E101th St ', '3rd Avenue'], ['E102th St ', '3rd Avenue'], ['E103th St ', '3rd Avenue'], ['E104th St ', '3rd Avenue'], ['E105th St ', '3rd Avenue'], ['E106th St ', '3rd Avenue'], ['E107th St ', '3rd Avenue'], ['E108th St ', '3rd Avenue'], ['E109th St ', '3rd Avenue'], ['E110th St ', '3rd Avenue'], ['E57th St ', '2nd Avenue'], ['E58th St ', '2nd Avenue'], ['E59th St ', '2nd Avenue'], ['E60th St ', '2nd Avenue'], ['E61th St ', '2nd Avenue'], ['E62th St ', '2nd Avenue'], ['E63th St ', '2nd Avenue'], ['E64th St ', '2nd Avenue'], ['E65th St ', '2nd Avenue'], ['E66th St ', '2nd Avenue'], ['E67th St ', '2nd Avenue'], ['E68th St ', '2nd Avenue'], ['E69th St ', '2nd Avenue'], ['E70th St ', '2nd Avenue'], ['E71th St ', '2nd Avenue'], ['E72th St ', '2nd Avenue'], ['E73th St ', '2nd Avenue'], ['E74th St ', '2nd Avenue'], ['E75th St ', '2nd Avenue'], ['E76th St ', '2nd Avenue'], ['E77th St ', '2nd Avenue'], ['E78th St ', '2nd Avenue'], ['E79th St ', '2nd Avenue'], ['E80th St ', '2nd Avenue'], ['E81th St ', '2nd Avenue'], ['E82th St ', '2nd Avenue'], ['E83th St ', '2nd Avenue'], ['E84th St ', '2nd Avenue'], ['E85th St ', '2nd Avenue'], ['E86th St ', '2nd Avenue'], ['E87th St ', '2nd Avenue'], ['E88th St ', '2nd Avenue'], ['E89th St ', '2nd Avenue'], ['E90th St ', '2nd Avenue'], ['E91th St ', '2nd Avenue'], ['E92th St ', '2nd Avenue'], ['E93th St ', '2nd Avenue'], ['E94th St ', '2nd Avenue'], ['E95th St ', '2nd Avenue'], ['E96th St ', '2nd Avenue'], ['E97th St ', '2nd Avenue'], ['E98th St ', '2nd Avenue'], ['E99th St ', '2nd Avenue'], ['E100th St ', '2nd Avenue'], ['E101th St ', '2nd Avenue'], ['E102th St ', '2nd Avenue'], ['E103th St ', '2nd Avenue'], ['E104th St ', '2nd Avenue'], ['E105th St ', '2nd Avenue'], ['E106th St ', '2nd Avenue'], ['E107th St ', '2nd Avenue'], ['E108th St ', '2nd Avenue'], ['E109th St ', '2nd Avenue'], ['E110th St ', '2nd Avenue'], ['E57th St ', '1st Avenue'], ['E58th St ', '1st Avenue'], ['E59th St ', '1st Avenue'], ['E60th St ', '1st Avenue'], ['E61th St ', '1st Avenue'], ['E62th St ', '1st Avenue'], ['E63th St ', '1st Avenue'], ['E64th St ', '1st Avenue'], ['E65th St ', '1st Avenue'], ['E66th St ', '1st Avenue'], ['E67th St ', '1st Avenue'], ['E68th St ', '1st Avenue'], ['E69th St ', '1st Avenue'], ['E70th St ', '1st Avenue'], ['E71th St ', '1st Avenue'], ['E72th St ', '1st Avenue'], ['E73th St ', '1st Avenue'], ['E74th St ', '1st Avenue'], ['E75th St ', '1st Avenue'], ['E76th St ', '1st Avenue'], ['E77th St ', '1st Avenue'], ['E78th St ', '1st Avenue'], ['E79th St ', '1st Avenue'], ['E80th St ', '1st Avenue'], ['E81th St ', '1st Avenue'], ['E82th St ', '1st Avenue'], ['E83th St ', '1st Avenue'], ['E84th St ', '1st Avenue'], ['E85th St ', '1st Avenue'], ['E86th St ', '1st Avenue'], ['E87th St ', '1st Avenue'], ['E88th St ', '1st Avenue'], ['E89th St ', '1st Avenue'], ['E90th St ', '1st Avenue'], ['E91th St ', '1st Avenue'], ['E92th St ', '1st Avenue'], ['E93th St ', '1st Avenue'], ['E94th St ', '1st Avenue'], ['E95th St ', '1st Avenue'], ['E96th St ', '1st Avenue'], ['E97th St ', '1st Avenue'], ['E98th St ', '1st Avenue'], ['E99th St ', '1st Avenue'], ['E100th St ', '1st Avenue'], ['E101th St ', '1st Avenue'], ['E102th St ', '1st Avenue'], ['E103th St ', '1st Avenue'], ['E104th St ', '1st Avenue'], ['E105th St ', '1st Avenue'], ['E106th St ', '1st Avenue'], ['E107th St ', '1st Avenue'], ['E108th St ', '1st Avenue'], ['E109th St ', '1st Avenue'], ['E110th St ', '1st Avenue']]\n",
            "len 420 [['W24th St ', '12th Avenue'], ['W25th St ', '12th Avenue'], ['W26th St ', '12th Avenue'], ['W27th St ', '12th Avenue'], ['W28th St ', '12th Avenue'], ['W29th St ', '12th Avenue'], ['W30th St ', '12th Avenue'], ['W31th St ', '12th Avenue'], ['W32th St ', '12th Avenue'], ['W33th St ', '12th Avenue'], ['W34th St ', '12th Avenue'], ['W35th St ', '12th Avenue'], ['W36th St ', '12th Avenue'], ['W37th St ', '12th Avenue'], ['W38th St ', '12th Avenue'], ['W39th St ', '12th Avenue'], ['W40th St ', '12th Avenue'], ['W41th St ', '12th Avenue'], ['W42th St ', '12th Avenue'], ['W43th St ', '12th Avenue'], ['W44th St ', '12th Avenue'], ['W45th St ', '12th Avenue'], ['W50th St ', '12th Avenue'], ['W51th St ', '12th Avenue'], ['W52th St ', '12th Avenue'], ['W53th St ', '12th Avenue'], ['W54th St ', '12th Avenue'], ['W55th St ', '12th Avenue'], ['W56th St ', '12th Avenue'], ['W57th St ', '12th Avenue'], ['W24th St ', '11th Avenue'], ['W25th St ', '11th Avenue'], ['W26th St ', '11th Avenue'], ['W27th St ', '11th Avenue'], ['W28th St ', '11th Avenue'], ['W29th St ', '11th Avenue'], ['W30th St ', '11th Avenue'], ['W31th St ', '11th Avenue'], ['W32th St ', '11th Avenue'], ['W33th St ', '11th Avenue'], ['W34th St ', '11th Avenue'], ['W35th St ', '11th Avenue'], ['W36th St ', '11th Avenue'], ['W37th St ', '11th Avenue'], ['W38th St ', '11th Avenue'], ['W39th St ', '11th Avenue'], ['W40th St ', '11th Avenue'], ['W41th St ', '11th Avenue'], ['W42th St ', '11th Avenue'], ['W43th St ', '11th Avenue'], ['W44th St ', '11th Avenue'], ['W45th St ', '11th Avenue'], ['W50th St ', '11th Avenue'], ['W51th St ', '11th Avenue'], ['W52th St ', '11th Avenue'], ['W53th St ', '11th Avenue'], ['W54th St ', '11th Avenue'], ['W55th St ', '11th Avenue'], ['W56th St ', '11th Avenue'], ['W57th St ', '11th Avenue'], ['W24th St ', '10th Avenue'], ['W25th St ', '10th Avenue'], ['W26th St ', '10th Avenue'], ['W27th St ', '10th Avenue'], ['W28th St ', '10th Avenue'], ['W29th St ', '10th Avenue'], ['W30th St ', '10th Avenue'], ['W31th St ', '10th Avenue'], ['W32th St ', '10th Avenue'], ['W33th St ', '10th Avenue'], ['W34th St ', '10th Avenue'], ['W35th St ', '10th Avenue'], ['W36th St ', '10th Avenue'], ['W37th St ', '10th Avenue'], ['W38th St ', '10th Avenue'], ['W39th St ', '10th Avenue'], ['W40th St ', '10th Avenue'], ['W41th St ', '10th Avenue'], ['W42th St ', '10th Avenue'], ['W43th St ', '10th Avenue'], ['W44th St ', '10th Avenue'], ['W45th St ', '10th Avenue'], ['W50th St ', '10th Avenue'], ['W51th St ', '10th Avenue'], ['W52th St ', '10th Avenue'], ['W53th St ', '10th Avenue'], ['W54th St ', '10th Avenue'], ['W55th St ', '10th Avenue'], ['W56th St ', '10th Avenue'], ['W57th St ', '10th Avenue'], ['W24th St ', '9th Avenue'], ['W25th St ', '9th Avenue'], ['W26th St ', '9th Avenue'], ['W27th St ', '9th Avenue'], ['W28th St ', '9th Avenue'], ['W29th St ', '9th Avenue'], ['W30th St ', '9th Avenue'], ['W31th St ', '9th Avenue'], ['W32th St ', '9th Avenue'], ['W33th St ', '9th Avenue'], ['W34th St ', '9th Avenue'], ['W35th St ', '9th Avenue'], ['W36th St ', '9th Avenue'], ['W37th St ', '9th Avenue'], ['W38th St ', '9th Avenue'], ['W39th St ', '9th Avenue'], ['W40th St ', '9th Avenue'], ['W41th St ', '9th Avenue'], ['W42th St ', '9th Avenue'], ['W43th St ', '9th Avenue'], ['W44th St ', '9th Avenue'], ['W45th St ', '9th Avenue'], ['W50th St ', '9th Avenue'], ['W51th St ', '9th Avenue'], ['W52th St ', '9th Avenue'], ['W53th St ', '9th Avenue'], ['W54th St ', '9th Avenue'], ['W55th St ', '9th Avenue'], ['W56th St ', '9th Avenue'], ['W57th St ', '9th Avenue'], ['W24th St ', '8th Avenue'], ['W25th St ', '8th Avenue'], ['W26th St ', '8th Avenue'], ['W27th St ', '8th Avenue'], ['W28th St ', '8th Avenue'], ['W29th St ', '8th Avenue'], ['W30th St ', '8th Avenue'], ['W31th St ', '8th Avenue'], ['W32th St ', '8th Avenue'], ['W33th St ', '8th Avenue'], ['W34th St ', '8th Avenue'], ['W35th St ', '8th Avenue'], ['W36th St ', '8th Avenue'], ['W37th St ', '8th Avenue'], ['W38th St ', '8th Avenue'], ['W39th St ', '8th Avenue'], ['W40th St ', '8th Avenue'], ['W41th St ', '8th Avenue'], ['W42th St ', '8th Avenue'], ['W43th St ', '8th Avenue'], ['W44th St ', '8th Avenue'], ['W45th St ', '8th Avenue'], ['W50th St ', '8th Avenue'], ['W51th St ', '8th Avenue'], ['W52th St ', '8th Avenue'], ['W53th St ', '8th Avenue'], ['W54th St ', '8th Avenue'], ['W55th St ', '8th Avenue'], ['W56th St ', '8th Avenue'], ['W57th St ', '8th Avenue'], ['W24th St ', '7th Avenue'], ['W25th St ', '7th Avenue'], ['W26th St ', '7th Avenue'], ['W27th St ', '7th Avenue'], ['W28th St ', '7th Avenue'], ['W29th St ', '7th Avenue'], ['W30th St ', '7th Avenue'], ['W31th St ', '7th Avenue'], ['W32th St ', '7th Avenue'], ['W33th St ', '7th Avenue'], ['W34th St ', '7th Avenue'], ['W35th St ', '7th Avenue'], ['W36th St ', '7th Avenue'], ['W37th St ', '7th Avenue'], ['W38th St ', '7th Avenue'], ['W39th St ', '7th Avenue'], ['W40th St ', '7th Avenue'], ['W41th St ', '7th Avenue'], ['W42th St ', '7th Avenue'], ['W43th St ', '7th Avenue'], ['W44th St ', '7th Avenue'], ['W45th St ', '7th Avenue'], ['W50th St ', '7th Avenue'], ['W51th St ', '7th Avenue'], ['W52th St ', '7th Avenue'], ['W53th St ', '7th Avenue'], ['W54th St ', '7th Avenue'], ['W55th St ', '7th Avenue'], ['W56th St ', '7th Avenue'], ['W57th St ', '7th Avenue'], ['W24th St ', '6th Avenue'], ['W25th St ', '6th Avenue'], ['W26th St ', '6th Avenue'], ['W27th St ', '6th Avenue'], ['W28th St ', '6th Avenue'], ['W29th St ', '6th Avenue'], ['W30th St ', '6th Avenue'], ['W31th St ', '6th Avenue'], ['W32th St ', '6th Avenue'], ['W33th St ', '6th Avenue'], ['W34th St ', '6th Avenue'], ['W35th St ', '6th Avenue'], ['W36th St ', '6th Avenue'], ['W37th St ', '6th Avenue'], ['W38th St ', '6th Avenue'], ['W39th St ', '6th Avenue'], ['W40th St ', '6th Avenue'], ['W41th St ', '6th Avenue'], ['W42th St ', '6th Avenue'], ['W43th St ', '6th Avenue'], ['W44th St ', '6th Avenue'], ['W45th St ', '6th Avenue'], ['W50th St ', '6th Avenue'], ['W51th St ', '6th Avenue'], ['W52th St ', '6th Avenue'], ['W53th St ', '6th Avenue'], ['W54th St ', '6th Avenue'], ['W55th St ', '6th Avenue'], ['W56th St ', '6th Avenue'], ['W57th St ', '6th Avenue'], ['W24th St ', '5th Avenue'], ['W25th St ', '5th Avenue'], ['W26th St ', '5th Avenue'], ['W27th St ', '5th Avenue'], ['W28th St ', '5th Avenue'], ['W29th St ', '5th Avenue'], ['W30th St ', '5th Avenue'], ['W31th St ', '5th Avenue'], ['W32th St ', '5th Avenue'], ['W33th St ', '5th Avenue'], ['W34th St ', '5th Avenue'], ['W35th St ', '5th Avenue'], ['W36th St ', '5th Avenue'], ['W37th St ', '5th Avenue'], ['W38th St ', '5th Avenue'], ['W39th St ', '5th Avenue'], ['W40th St ', '5th Avenue'], ['W41th St ', '5th Avenue'], ['W42th St ', '5th Avenue'], ['W43th St ', '5th Avenue'], ['W44th St ', '5th Avenue'], ['W45th St ', '5th Avenue'], ['W50th St ', '5th Avenue'], ['W51th St ', '5th Avenue'], ['W52th St ', '5th Avenue'], ['W53th St ', '5th Avenue'], ['W54th St ', '5th Avenue'], ['W55th St ', '5th Avenue'], ['W56th St ', '5th Avenue'], ['W57th St ', '5th Avenue'], ['W24th St ', 'Madison Avenue '], ['W25th St ', 'Madison Avenue '], ['W26th St ', 'Madison Avenue '], ['W27th St ', 'Madison Avenue '], ['W28th St ', 'Madison Avenue '], ['W29th St ', 'Madison Avenue '], ['W30th St ', 'Madison Avenue '], ['W31th St ', 'Madison Avenue '], ['W32th St ', 'Madison Avenue '], ['W33th St ', 'Madison Avenue '], ['W34th St ', 'Madison Avenue '], ['W35th St ', 'Madison Avenue '], ['W36th St ', 'Madison Avenue '], ['W37th St ', 'Madison Avenue '], ['W38th St ', 'Madison Avenue '], ['W39th St ', 'Madison Avenue '], ['W40th St ', 'Madison Avenue '], ['W41th St ', 'Madison Avenue '], ['W42th St ', 'Madison Avenue '], ['W43th St ', 'Madison Avenue '], ['W44th St ', 'Madison Avenue '], ['W45th St ', 'Madison Avenue '], ['W50th St ', 'Madison Avenue '], ['W51th St ', 'Madison Avenue '], ['W52th St ', 'Madison Avenue '], ['W53th St ', 'Madison Avenue '], ['W54th St ', 'Madison Avenue '], ['W55th St ', 'Madison Avenue '], ['W56th St ', 'Madison Avenue '], ['W57th St ', 'Madison Avenue '], ['W24th St ', 'Park Avenue S'], ['W25th St ', 'Park Avenue S'], ['W26th St ', 'Park Avenue S'], ['W27th St ', 'Park Avenue S'], ['W28th St ', 'Park Avenue S'], ['W29th St ', 'Park Avenue S'], ['W30th St ', 'Park Avenue S'], ['W31th St ', 'Park Avenue S'], ['W32th St ', 'Park Avenue S'], ['W33th St ', 'Park Avenue S'], ['W34th St ', 'Park Avenue S'], ['W35th St ', 'Park Avenue S'], ['W36th St ', 'Park Avenue S'], ['W37th St ', 'Park Avenue S'], ['W38th St ', 'Park Avenue S'], ['W39th St ', 'Park Avenue S'], ['W40th St ', 'Park Avenue S'], ['W41th St ', 'Park Avenue S'], ['W42th St ', 'Park Avenue S'], ['W43th St ', 'Park Avenue S'], ['W44th St ', 'Park Avenue S'], ['W45th St ', 'Park Avenue S'], ['W50th St ', 'Park Avenue S'], ['W51th St ', 'Park Avenue S'], ['W52th St ', 'Park Avenue S'], ['W53th St ', 'Park Avenue S'], ['W54th St ', 'Park Avenue S'], ['W55th St ', 'Park Avenue S'], ['W56th St ', 'Park Avenue S'], ['W57th St ', 'Park Avenue S'], ['W24th St ', 'Lexington Avenue'], ['W25th St ', 'Lexington Avenue'], ['W26th St ', 'Lexington Avenue'], ['W27th St ', 'Lexington Avenue'], ['W28th St ', 'Lexington Avenue'], ['W29th St ', 'Lexington Avenue'], ['W30th St ', 'Lexington Avenue'], ['W31th St ', 'Lexington Avenue'], ['W32th St ', 'Lexington Avenue'], ['W33th St ', 'Lexington Avenue'], ['W34th St ', 'Lexington Avenue'], ['W35th St ', 'Lexington Avenue'], ['W36th St ', 'Lexington Avenue'], ['W37th St ', 'Lexington Avenue'], ['W38th St ', 'Lexington Avenue'], ['W39th St ', 'Lexington Avenue'], ['W40th St ', 'Lexington Avenue'], ['W41th St ', 'Lexington Avenue'], ['W42th St ', 'Lexington Avenue'], ['W43th St ', 'Lexington Avenue'], ['W44th St ', 'Lexington Avenue'], ['W45th St ', 'Lexington Avenue'], ['W50th St ', 'Lexington Avenue'], ['W51th St ', 'Lexington Avenue'], ['W52th St ', 'Lexington Avenue'], ['W53th St ', 'Lexington Avenue'], ['W54th St ', 'Lexington Avenue'], ['W55th St ', 'Lexington Avenue'], ['W56th St ', 'Lexington Avenue'], ['W57th St ', 'Lexington Avenue'], ['W24th St ', '3rd Avenue S'], ['W25th St ', '3rd Avenue S'], ['W26th St ', '3rd Avenue S'], ['W27th St ', '3rd Avenue S'], ['W28th St ', '3rd Avenue S'], ['W29th St ', '3rd Avenue S'], ['W30th St ', '3rd Avenue S'], ['W31th St ', '3rd Avenue S'], ['W32th St ', '3rd Avenue S'], ['W33th St ', '3rd Avenue S'], ['W34th St ', '3rd Avenue S'], ['W35th St ', '3rd Avenue S'], ['W36th St ', '3rd Avenue S'], ['W37th St ', '3rd Avenue S'], ['W38th St ', '3rd Avenue S'], ['W39th St ', '3rd Avenue S'], ['W40th St ', '3rd Avenue S'], ['W41th St ', '3rd Avenue S'], ['W42th St ', '3rd Avenue S'], ['W43th St ', '3rd Avenue S'], ['W44th St ', '3rd Avenue S'], ['W45th St ', '3rd Avenue S'], ['W50th St ', '3rd Avenue S'], ['W51th St ', '3rd Avenue S'], ['W52th St ', '3rd Avenue S'], ['W53th St ', '3rd Avenue S'], ['W54th St ', '3rd Avenue S'], ['W55th St ', '3rd Avenue S'], ['W56th St ', '3rd Avenue S'], ['W57th St ', '3rd Avenue S'], ['W24th St ', '2nd Avenue S'], ['W25th St ', '2nd Avenue S'], ['W26th St ', '2nd Avenue S'], ['W27th St ', '2nd Avenue S'], ['W28th St ', '2nd Avenue S'], ['W29th St ', '2nd Avenue S'], ['W30th St ', '2nd Avenue S'], ['W31th St ', '2nd Avenue S'], ['W32th St ', '2nd Avenue S'], ['W33th St ', '2nd Avenue S'], ['W34th St ', '2nd Avenue S'], ['W35th St ', '2nd Avenue S'], ['W36th St ', '2nd Avenue S'], ['W37th St ', '2nd Avenue S'], ['W38th St ', '2nd Avenue S'], ['W39th St ', '2nd Avenue S'], ['W40th St ', '2nd Avenue S'], ['W41th St ', '2nd Avenue S'], ['W42th St ', '2nd Avenue S'], ['W43th St ', '2nd Avenue S'], ['W44th St ', '2nd Avenue S'], ['W45th St ', '2nd Avenue S'], ['W50th St ', '2nd Avenue S'], ['W51th St ', '2nd Avenue S'], ['W52th St ', '2nd Avenue S'], ['W53th St ', '2nd Avenue S'], ['W54th St ', '2nd Avenue S'], ['W55th St ', '2nd Avenue S'], ['W56th St ', '2nd Avenue S'], ['W57th St ', '2nd Avenue S'], ['W24th St ', '1st Avenue S'], ['W25th St ', '1st Avenue S'], ['W26th St ', '1st Avenue S'], ['W27th St ', '1st Avenue S'], ['W28th St ', '1st Avenue S'], ['W29th St ', '1st Avenue S'], ['W30th St ', '1st Avenue S'], ['W31th St ', '1st Avenue S'], ['W32th St ', '1st Avenue S'], ['W33th St ', '1st Avenue S'], ['W34th St ', '1st Avenue S'], ['W35th St ', '1st Avenue S'], ['W36th St ', '1st Avenue S'], ['W37th St ', '1st Avenue S'], ['W38th St ', '1st Avenue S'], ['W39th St ', '1st Avenue S'], ['W40th St ', '1st Avenue S'], ['W41th St ', '1st Avenue S'], ['W42th St ', '1st Avenue S'], ['W43th St ', '1st Avenue S'], ['W44th St ', '1st Avenue S'], ['W45th St ', '1st Avenue S'], ['W50th St ', '1st Avenue S'], ['W51th St ', '1st Avenue S'], ['W52th St ', '1st Avenue S'], ['W53th St ', '1st Avenue S'], ['W54th St ', '1st Avenue S'], ['W55th St ', '1st Avenue S'], ['W56th St ', '1st Avenue S'], ['W57th St ', '1st Avenue S']]\n",
            "len 253 [['W1st St ', '10th Avenue'], ['W2nd St ', '10th Avenue'], ['W3rd St ', '10th Avenue'], ['W4th St ', '10th Avenue'], ['W5th St ', '10th Avenue'], ['W6th St ', '10th Avenue'], ['W7th St ', '10th Avenue'], ['W8th St ', '10th Avenue'], ['W9th St ', '10th Avenue'], ['W10th St ', '10th Avenue'], ['W11th St ', '10th Avenue'], ['W12th St ', '10th Avenue'], ['W13th St ', '10th Avenue'], ['W14th St ', '10th Avenue'], ['W15th St ', '10th Avenue'], ['W16th St ', '10th Avenue'], ['W17th St ', '10th Avenue'], ['W18th St ', '10th Avenue'], ['W19th St ', '10th Avenue'], ['W20th St ', '10th Avenue'], ['W21th St ', '10th Avenue'], ['W22th St ', '10th Avenue'], ['W23th St ', '10th Avenue'], ['W1st St ', '9th Avenue'], ['W2nd St ', '9th Avenue'], ['W3rd St ', '9th Avenue'], ['W4th St ', '9th Avenue'], ['W5th St ', '9th Avenue'], ['W6th St ', '9th Avenue'], ['W7th St ', '9th Avenue'], ['W8th St ', '9th Avenue'], ['W9th St ', '9th Avenue'], ['W10th St ', '9th Avenue'], ['W11th St ', '9th Avenue'], ['W12th St ', '9th Avenue'], ['W13th St ', '9th Avenue'], ['W14th St ', '9th Avenue'], ['W15th St ', '9th Avenue'], ['W16th St ', '9th Avenue'], ['W17th St ', '9th Avenue'], ['W18th St ', '9th Avenue'], ['W19th St ', '9th Avenue'], ['W20th St ', '9th Avenue'], ['W21th St ', '9th Avenue'], ['W22th St ', '9th Avenue'], ['W23th St ', '9th Avenue'], ['W1st St ', '8th Avenue'], ['W2nd St ', '8th Avenue'], ['W3rd St ', '8th Avenue'], ['W4th St ', '8th Avenue'], ['W5th St ', '8th Avenue'], ['W6th St ', '8th Avenue'], ['W7th St ', '8th Avenue'], ['W8th St ', '8th Avenue'], ['W9th St ', '8th Avenue'], ['W10th St ', '8th Avenue'], ['W11th St ', '8th Avenue'], ['W12th St ', '8th Avenue'], ['W13th St ', '8th Avenue'], ['W14th St ', '8th Avenue'], ['W15th St ', '8th Avenue'], ['W16th St ', '8th Avenue'], ['W17th St ', '8th Avenue'], ['W18th St ', '8th Avenue'], ['W19th St ', '8th Avenue'], ['W20th St ', '8th Avenue'], ['W21th St ', '8th Avenue'], ['W22th St ', '8th Avenue'], ['W23th St ', '8th Avenue'], ['W1st St ', '7th Avenue'], ['W2nd St ', '7th Avenue'], ['W3rd St ', '7th Avenue'], ['W4th St ', '7th Avenue'], ['W5th St ', '7th Avenue'], ['W6th St ', '7th Avenue'], ['W7th St ', '7th Avenue'], ['W8th St ', '7th Avenue'], ['W9th St ', '7th Avenue'], ['W10th St ', '7th Avenue'], ['W11th St ', '7th Avenue'], ['W12th St ', '7th Avenue'], ['W13th St ', '7th Avenue'], ['W14th St ', '7th Avenue'], ['W15th St ', '7th Avenue'], ['W16th St ', '7th Avenue'], ['W17th St ', '7th Avenue'], ['W18th St ', '7th Avenue'], ['W19th St ', '7th Avenue'], ['W20th St ', '7th Avenue'], ['W21th St ', '7th Avenue'], ['W22th St ', '7th Avenue'], ['W23th St ', '7th Avenue'], ['W1st St ', '6th Avenue'], ['W2nd St ', '6th Avenue'], ['W3rd St ', '6th Avenue'], ['W4th St ', '6th Avenue'], ['W5th St ', '6th Avenue'], ['W6th St ', '6th Avenue'], ['W7th St ', '6th Avenue'], ['W8th St ', '6th Avenue'], ['W9th St ', '6th Avenue'], ['W10th St ', '6th Avenue'], ['W11th St ', '6th Avenue'], ['W12th St ', '6th Avenue'], ['W13th St ', '6th Avenue'], ['W14th St ', '6th Avenue'], ['W15th St ', '6th Avenue'], ['W16th St ', '6th Avenue'], ['W17th St ', '6th Avenue'], ['W18th St ', '6th Avenue'], ['W19th St ', '6th Avenue'], ['W20th St ', '6th Avenue'], ['W21th St ', '6th Avenue'], ['W22th St ', '6th Avenue'], ['W23th St ', '6th Avenue'], ['W1st St ', '5th Avenue'], ['W2nd St ', '5th Avenue'], ['W3rd St ', '5th Avenue'], ['W4th St ', '5th Avenue'], ['W5th St ', '5th Avenue'], ['W6th St ', '5th Avenue'], ['W7th St ', '5th Avenue'], ['W8th St ', '5th Avenue'], ['W9th St ', '5th Avenue'], ['W10th St ', '5th Avenue'], ['W11th St ', '5th Avenue'], ['W12th St ', '5th Avenue'], ['W13th St ', '5th Avenue'], ['W14th St ', '5th Avenue'], ['W15th St ', '5th Avenue'], ['W16th St ', '5th Avenue'], ['W17th St ', '5th Avenue'], ['W18th St ', '5th Avenue'], ['W19th St ', '5th Avenue'], ['W20th St ', '5th Avenue'], ['W21th St ', '5th Avenue'], ['W22th St ', '5th Avenue'], ['W23th St ', '5th Avenue'], ['W1st St ', 'Park Avenue'], ['W2nd St ', 'Park Avenue'], ['W3rd St ', 'Park Avenue'], ['W4th St ', 'Park Avenue'], ['W5th St ', 'Park Avenue'], ['W6th St ', 'Park Avenue'], ['W7th St ', 'Park Avenue'], ['W8th St ', 'Park Avenue'], ['W9th St ', 'Park Avenue'], ['W10th St ', 'Park Avenue'], ['W11th St ', 'Park Avenue'], ['W12th St ', 'Park Avenue'], ['W13th St ', 'Park Avenue'], ['W14th St ', 'Park Avenue'], ['W15th St ', 'Park Avenue'], ['W16th St ', 'Park Avenue'], ['W17th St ', 'Park Avenue'], ['W18th St ', 'Park Avenue'], ['W19th St ', 'Park Avenue'], ['W20th St ', 'Park Avenue'], ['W21th St ', 'Park Avenue'], ['W22th St ', 'Park Avenue'], ['W23th St ', 'Park Avenue'], ['W1st St ', 'Lexington Avenue'], ['W2nd St ', 'Lexington Avenue'], ['W3rd St ', 'Lexington Avenue'], ['W4th St ', 'Lexington Avenue'], ['W5th St ', 'Lexington Avenue'], ['W6th St ', 'Lexington Avenue'], ['W7th St ', 'Lexington Avenue'], ['W8th St ', 'Lexington Avenue'], ['W9th St ', 'Lexington Avenue'], ['W10th St ', 'Lexington Avenue'], ['W11th St ', 'Lexington Avenue'], ['W12th St ', 'Lexington Avenue'], ['W13th St ', 'Lexington Avenue'], ['W14th St ', 'Lexington Avenue'], ['W15th St ', 'Lexington Avenue'], ['W16th St ', 'Lexington Avenue'], ['W17th St ', 'Lexington Avenue'], ['W18th St ', 'Lexington Avenue'], ['W19th St ', 'Lexington Avenue'], ['W20th St ', 'Lexington Avenue'], ['W21th St ', 'Lexington Avenue'], ['W22th St ', 'Lexington Avenue'], ['W23th St ', 'Lexington Avenue'], ['W1st St ', '3rd Avenue'], ['W2nd St ', '3rd Avenue'], ['W3rd St ', '3rd Avenue'], ['W4th St ', '3rd Avenue'], ['W5th St ', '3rd Avenue'], ['W6th St ', '3rd Avenue'], ['W7th St ', '3rd Avenue'], ['W8th St ', '3rd Avenue'], ['W9th St ', '3rd Avenue'], ['W10th St ', '3rd Avenue'], ['W11th St ', '3rd Avenue'], ['W12th St ', '3rd Avenue'], ['W13th St ', '3rd Avenue'], ['W14th St ', '3rd Avenue'], ['W15th St ', '3rd Avenue'], ['W16th St ', '3rd Avenue'], ['W17th St ', '3rd Avenue'], ['W18th St ', '3rd Avenue'], ['W19th St ', '3rd Avenue'], ['W20th St ', '3rd Avenue'], ['W21th St ', '3rd Avenue'], ['W22th St ', '3rd Avenue'], ['W23th St ', '3rd Avenue'], ['W1st St ', '2nd Avenue'], ['W2nd St ', '2nd Avenue'], ['W3rd St ', '2nd Avenue'], ['W4th St ', '2nd Avenue'], ['W5th St ', '2nd Avenue'], ['W6th St ', '2nd Avenue'], ['W7th St ', '2nd Avenue'], ['W8th St ', '2nd Avenue'], ['W9th St ', '2nd Avenue'], ['W10th St ', '2nd Avenue'], ['W11th St ', '2nd Avenue'], ['W12th St ', '2nd Avenue'], ['W13th St ', '2nd Avenue'], ['W14th St ', '2nd Avenue'], ['W15th St ', '2nd Avenue'], ['W16th St ', '2nd Avenue'], ['W17th St ', '2nd Avenue'], ['W18th St ', '2nd Avenue'], ['W19th St ', '2nd Avenue'], ['W20th St ', '2nd Avenue'], ['W21th St ', '2nd Avenue'], ['W22th St ', '2nd Avenue'], ['W23th St ', '2nd Avenue'], ['W1st St ', '1st Avenue'], ['W2nd St ', '1st Avenue'], ['W3rd St ', '1st Avenue'], ['W4th St ', '1st Avenue'], ['W5th St ', '1st Avenue'], ['W6th St ', '1st Avenue'], ['W7th St ', '1st Avenue'], ['W8th St ', '1st Avenue'], ['W9th St ', '1st Avenue'], ['W10th St ', '1st Avenue'], ['W11th St ', '1st Avenue'], ['W12th St ', '1st Avenue'], ['W13th St ', '1st Avenue'], ['W14th St ', '1st Avenue'], ['W15th St ', '1st Avenue'], ['W16th St ', '1st Avenue'], ['W17th St ', '1st Avenue'], ['W18th St ', '1st Avenue'], ['W19th St ', '1st Avenue'], ['W20th St ', '1st Avenue'], ['W21th St ', '1st Avenue'], ['W22th St ', '1st Avenue'], ['W23th St ', '1st Avenue']]\n",
            "[['W24th St ', '12th Avenue'], ['W25th St ', '12th Avenue'], ['W26th St ', '12th Avenue'], ['W27th St ', '12th Avenue'], ['W28th St ', '12th Avenue'], ['W29th St ', '12th Avenue'], ['W30th St ', '12th Avenue'], ['W31th St ', '12th Avenue'], ['W32th St ', '12th Avenue'], ['W33th St ', '12th Avenue'], ['W34th St ', '12th Avenue'], ['W35th St ', '12th Avenue'], ['W36th St ', '12th Avenue'], ['W37th St ', '12th Avenue'], ['W38th St ', '12th Avenue'], ['W39th St ', '12th Avenue'], ['W40th St ', '12th Avenue'], ['W41th St ', '12th Avenue'], ['W42th St ', '12th Avenue'], ['W43th St ', '12th Avenue'], ['W44th St ', '12th Avenue'], ['W45th St ', '12th Avenue'], ['W50th St ', '12th Avenue'], ['W51th St ', '12th Avenue'], ['W52th St ', '12th Avenue'], ['W53th St ', '12th Avenue'], ['W54th St ', '12th Avenue'], ['W55th St ', '12th Avenue'], ['W56th St ', '12th Avenue'], ['W57th St ', '12th Avenue'], ['W24th St ', '11th Avenue'], ['W25th St ', '11th Avenue'], ['W26th St ', '11th Avenue'], ['W27th St ', '11th Avenue'], ['W28th St ', '11th Avenue'], ['W29th St ', '11th Avenue'], ['W30th St ', '11th Avenue'], ['W31th St ', '11th Avenue'], ['W32th St ', '11th Avenue'], ['W33th St ', '11th Avenue'], ['W34th St ', '11th Avenue'], ['W35th St ', '11th Avenue'], ['W36th St ', '11th Avenue'], ['W37th St ', '11th Avenue'], ['W38th St ', '11th Avenue'], ['W39th St ', '11th Avenue'], ['W40th St ', '11th Avenue'], ['W41th St ', '11th Avenue'], ['W42th St ', '11th Avenue'], ['W43th St ', '11th Avenue'], ['W44th St ', '11th Avenue'], ['W45th St ', '11th Avenue'], ['W50th St ', '11th Avenue'], ['W51th St ', '11th Avenue'], ['W52th St ', '11th Avenue'], ['W53th St ', '11th Avenue'], ['W54th St ', '11th Avenue'], ['W55th St ', '11th Avenue'], ['W56th St ', '11th Avenue'], ['W57th St ', '11th Avenue'], ['W24th St ', '10th Avenue'], ['W25th St ', '10th Avenue'], ['W26th St ', '10th Avenue'], ['W27th St ', '10th Avenue'], ['W28th St ', '10th Avenue'], ['W29th St ', '10th Avenue'], ['W30th St ', '10th Avenue'], ['W31th St ', '10th Avenue'], ['W32th St ', '10th Avenue'], ['W33th St ', '10th Avenue'], ['W34th St ', '10th Avenue'], ['W35th St ', '10th Avenue'], ['W36th St ', '10th Avenue'], ['W37th St ', '10th Avenue'], ['W38th St ', '10th Avenue'], ['W39th St ', '10th Avenue'], ['W40th St ', '10th Avenue'], ['W41th St ', '10th Avenue'], ['W42th St ', '10th Avenue'], ['W43th St ', '10th Avenue'], ['W44th St ', '10th Avenue'], ['W45th St ', '10th Avenue'], ['W50th St ', '10th Avenue'], ['W51th St ', '10th Avenue'], ['W52th St ', '10th Avenue'], ['W53th St ', '10th Avenue'], ['W54th St ', '10th Avenue'], ['W55th St ', '10th Avenue'], ['W56th St ', '10th Avenue'], ['W57th St ', '10th Avenue'], ['W24th St ', '9th Avenue'], ['W25th St ', '9th Avenue'], ['W26th St ', '9th Avenue'], ['W27th St ', '9th Avenue'], ['W28th St ', '9th Avenue'], ['W29th St ', '9th Avenue'], ['W30th St ', '9th Avenue'], ['W31th St ', '9th Avenue'], ['W32th St ', '9th Avenue'], ['W33th St ', '9th Avenue'], ['W34th St ', '9th Avenue'], ['W35th St ', '9th Avenue'], ['W36th St ', '9th Avenue'], ['W37th St ', '9th Avenue'], ['W38th St ', '9th Avenue'], ['W39th St ', '9th Avenue'], ['W40th St ', '9th Avenue'], ['W41th St ', '9th Avenue'], ['W42th St ', '9th Avenue'], ['W43th St ', '9th Avenue'], ['W44th St ', '9th Avenue'], ['W45th St ', '9th Avenue'], ['W50th St ', '9th Avenue'], ['W51th St ', '9th Avenue'], ['W52th St ', '9th Avenue'], ['W53th St ', '9th Avenue'], ['W54th St ', '9th Avenue'], ['W55th St ', '9th Avenue'], ['W56th St ', '9th Avenue'], ['W57th St ', '9th Avenue'], ['W24th St ', '8th Avenue'], ['W25th St ', '8th Avenue'], ['W26th St ', '8th Avenue'], ['W27th St ', '8th Avenue'], ['W28th St ', '8th Avenue'], ['W29th St ', '8th Avenue'], ['W30th St ', '8th Avenue'], ['W31th St ', '8th Avenue'], ['W32th St ', '8th Avenue'], ['W33th St ', '8th Avenue'], ['W34th St ', '8th Avenue'], ['W35th St ', '8th Avenue'], ['W36th St ', '8th Avenue'], ['W37th St ', '8th Avenue'], ['W38th St ', '8th Avenue'], ['W39th St ', '8th Avenue'], ['W40th St ', '8th Avenue'], ['W41th St ', '8th Avenue'], ['W42th St ', '8th Avenue'], ['W43th St ', '8th Avenue'], ['W44th St ', '8th Avenue'], ['W45th St ', '8th Avenue'], ['W50th St ', '8th Avenue'], ['W51th St ', '8th Avenue'], ['W52th St ', '8th Avenue'], ['W53th St ', '8th Avenue'], ['W54th St ', '8th Avenue'], ['W55th St ', '8th Avenue'], ['W56th St ', '8th Avenue'], ['W57th St ', '8th Avenue'], ['W24th St ', '7th Avenue'], ['W25th St ', '7th Avenue'], ['W26th St ', '7th Avenue'], ['W27th St ', '7th Avenue'], ['W28th St ', '7th Avenue'], ['W29th St ', '7th Avenue'], ['W30th St ', '7th Avenue'], ['W31th St ', '7th Avenue'], ['W32th St ', '7th Avenue'], ['W33th St ', '7th Avenue'], ['W34th St ', '7th Avenue'], ['W35th St ', '7th Avenue'], ['W36th St ', '7th Avenue'], ['W37th St ', '7th Avenue'], ['W38th St ', '7th Avenue'], ['W39th St ', '7th Avenue'], ['W40th St ', '7th Avenue'], ['W41th St ', '7th Avenue'], ['W42th St ', '7th Avenue'], ['W43th St ', '7th Avenue'], ['W44th St ', '7th Avenue'], ['W45th St ', '7th Avenue'], ['W50th St ', '7th Avenue'], ['W51th St ', '7th Avenue'], ['W52th St ', '7th Avenue'], ['W53th St ', '7th Avenue'], ['W54th St ', '7th Avenue'], ['W55th St ', '7th Avenue'], ['W56th St ', '7th Avenue'], ['W57th St ', '7th Avenue'], ['W24th St ', '6th Avenue'], ['W25th St ', '6th Avenue'], ['W26th St ', '6th Avenue'], ['W27th St ', '6th Avenue'], ['W28th St ', '6th Avenue'], ['W29th St ', '6th Avenue'], ['W30th St ', '6th Avenue'], ['W31th St ', '6th Avenue'], ['W32th St ', '6th Avenue'], ['W33th St ', '6th Avenue'], ['W34th St ', '6th Avenue'], ['W35th St ', '6th Avenue'], ['W36th St ', '6th Avenue'], ['W37th St ', '6th Avenue'], ['W38th St ', '6th Avenue'], ['W39th St ', '6th Avenue'], ['W40th St ', '6th Avenue'], ['W41th St ', '6th Avenue'], ['W42th St ', '6th Avenue'], ['W43th St ', '6th Avenue'], ['W44th St ', '6th Avenue'], ['W45th St ', '6th Avenue'], ['W50th St ', '6th Avenue'], ['W51th St ', '6th Avenue'], ['W52th St ', '6th Avenue'], ['W53th St ', '6th Avenue'], ['W54th St ', '6th Avenue'], ['W55th St ', '6th Avenue'], ['W56th St ', '6th Avenue'], ['W57th St ', '6th Avenue'], ['W24th St ', '5th Avenue'], ['W25th St ', '5th Avenue'], ['W26th St ', '5th Avenue'], ['W27th St ', '5th Avenue'], ['W28th St ', '5th Avenue'], ['W29th St ', '5th Avenue'], ['W30th St ', '5th Avenue'], ['W31th St ', '5th Avenue'], ['W32th St ', '5th Avenue'], ['W33th St ', '5th Avenue'], ['W34th St ', '5th Avenue'], ['W35th St ', '5th Avenue'], ['W36th St ', '5th Avenue'], ['W37th St ', '5th Avenue'], ['W38th St ', '5th Avenue'], ['W39th St ', '5th Avenue'], ['W40th St ', '5th Avenue'], ['W41th St ', '5th Avenue'], ['W42th St ', '5th Avenue'], ['W43th St ', '5th Avenue'], ['W44th St ', '5th Avenue'], ['W45th St ', '5th Avenue'], ['W50th St ', '5th Avenue'], ['W51th St ', '5th Avenue'], ['W52th St ', '5th Avenue'], ['W53th St ', '5th Avenue'], ['W54th St ', '5th Avenue'], ['W55th St ', '5th Avenue'], ['W56th St ', '5th Avenue'], ['W57th St ', '5th Avenue'], ['W24th St ', 'Madison Avenue '], ['W25th St ', 'Madison Avenue '], ['W26th St ', 'Madison Avenue '], ['W27th St ', 'Madison Avenue '], ['W28th St ', 'Madison Avenue '], ['W29th St ', 'Madison Avenue '], ['W30th St ', 'Madison Avenue '], ['W31th St ', 'Madison Avenue '], ['W32th St ', 'Madison Avenue '], ['W33th St ', 'Madison Avenue '], ['W34th St ', 'Madison Avenue '], ['W35th St ', 'Madison Avenue '], ['W36th St ', 'Madison Avenue '], ['W37th St ', 'Madison Avenue '], ['W38th St ', 'Madison Avenue '], ['W39th St ', 'Madison Avenue '], ['W40th St ', 'Madison Avenue '], ['W41th St ', 'Madison Avenue '], ['W42th St ', 'Madison Avenue '], ['W43th St ', 'Madison Avenue '], ['W44th St ', 'Madison Avenue '], ['W45th St ', 'Madison Avenue '], ['W50th St ', 'Madison Avenue '], ['W51th St ', 'Madison Avenue '], ['W52th St ', 'Madison Avenue '], ['W53th St ', 'Madison Avenue '], ['W54th St ', 'Madison Avenue '], ['W55th St ', 'Madison Avenue '], ['W56th St ', 'Madison Avenue '], ['W57th St ', 'Madison Avenue '], ['W24th St ', 'Park Avenue S'], ['W25th St ', 'Park Avenue S'], ['W26th St ', 'Park Avenue S'], ['W27th St ', 'Park Avenue S'], ['W28th St ', 'Park Avenue S'], ['W29th St ', 'Park Avenue S'], ['W30th St ', 'Park Avenue S'], ['W31th St ', 'Park Avenue S'], ['W32th St ', 'Park Avenue S'], ['W33th St ', 'Park Avenue S'], ['W34th St ', 'Park Avenue S'], ['W35th St ', 'Park Avenue S'], ['W36th St ', 'Park Avenue S'], ['W37th St ', 'Park Avenue S'], ['W38th St ', 'Park Avenue S'], ['W39th St ', 'Park Avenue S'], ['W40th St ', 'Park Avenue S'], ['W41th St ', 'Park Avenue S'], ['W42th St ', 'Park Avenue S'], ['W43th St ', 'Park Avenue S'], ['W44th St ', 'Park Avenue S'], ['W45th St ', 'Park Avenue S'], ['W50th St ', 'Park Avenue S'], ['W51th St ', 'Park Avenue S'], ['W52th St ', 'Park Avenue S'], ['W53th St ', 'Park Avenue S'], ['W54th St ', 'Park Avenue S'], ['W55th St ', 'Park Avenue S'], ['W56th St ', 'Park Avenue S'], ['W57th St ', 'Park Avenue S'], ['W24th St ', 'Lexington Avenue'], ['W25th St ', 'Lexington Avenue'], ['W26th St ', 'Lexington Avenue'], ['W27th St ', 'Lexington Avenue'], ['W28th St ', 'Lexington Avenue'], ['W29th St ', 'Lexington Avenue'], ['W30th St ', 'Lexington Avenue'], ['W31th St ', 'Lexington Avenue'], ['W32th St ', 'Lexington Avenue'], ['W33th St ', 'Lexington Avenue'], ['W34th St ', 'Lexington Avenue'], ['W35th St ', 'Lexington Avenue'], ['W36th St ', 'Lexington Avenue'], ['W37th St ', 'Lexington Avenue'], ['W38th St ', 'Lexington Avenue'], ['W39th St ', 'Lexington Avenue'], ['W40th St ', 'Lexington Avenue'], ['W41th St ', 'Lexington Avenue'], ['W42th St ', 'Lexington Avenue'], ['W43th St ', 'Lexington Avenue'], ['W44th St ', 'Lexington Avenue'], ['W45th St ', 'Lexington Avenue'], ['W50th St ', 'Lexington Avenue'], ['W51th St ', 'Lexington Avenue'], ['W52th St ', 'Lexington Avenue'], ['W53th St ', 'Lexington Avenue'], ['W54th St ', 'Lexington Avenue'], ['W55th St ', 'Lexington Avenue'], ['W56th St ', 'Lexington Avenue'], ['W57th St ', 'Lexington Avenue'], ['W24th St ', '3rd Avenue S'], ['W25th St ', '3rd Avenue S'], ['W26th St ', '3rd Avenue S'], ['W27th St ', '3rd Avenue S'], ['W28th St ', '3rd Avenue S'], ['W29th St ', '3rd Avenue S'], ['W30th St ', '3rd Avenue S'], ['W31th St ', '3rd Avenue S'], ['W32th St ', '3rd Avenue S'], ['W33th St ', '3rd Avenue S'], ['W34th St ', '3rd Avenue S'], ['W35th St ', '3rd Avenue S'], ['W36th St ', '3rd Avenue S'], ['W37th St ', '3rd Avenue S'], ['W38th St ', '3rd Avenue S'], ['W39th St ', '3rd Avenue S'], ['W40th St ', '3rd Avenue S'], ['W41th St ', '3rd Avenue S'], ['W42th St ', '3rd Avenue S'], ['W43th St ', '3rd Avenue S'], ['W44th St ', '3rd Avenue S'], ['W45th St ', '3rd Avenue S'], ['W50th St ', '3rd Avenue S'], ['W51th St ', '3rd Avenue S'], ['W52th St ', '3rd Avenue S'], ['W53th St ', '3rd Avenue S'], ['W54th St ', '3rd Avenue S'], ['W55th St ', '3rd Avenue S'], ['W56th St ', '3rd Avenue S'], ['W57th St ', '3rd Avenue S'], ['W24th St ', '2nd Avenue S'], ['W25th St ', '2nd Avenue S'], ['W26th St ', '2nd Avenue S'], ['W27th St ', '2nd Avenue S'], ['W28th St ', '2nd Avenue S'], ['W29th St ', '2nd Avenue S'], ['W30th St ', '2nd Avenue S'], ['W31th St ', '2nd Avenue S'], ['W32th St ', '2nd Avenue S'], ['W33th St ', '2nd Avenue S'], ['W34th St ', '2nd Avenue S'], ['W35th St ', '2nd Avenue S'], ['W36th St ', '2nd Avenue S'], ['W37th St ', '2nd Avenue S'], ['W38th St ', '2nd Avenue S'], ['W39th St ', '2nd Avenue S'], ['W40th St ', '2nd Avenue S'], ['W41th St ', '2nd Avenue S'], ['W42th St ', '2nd Avenue S'], ['W43th St ', '2nd Avenue S'], ['W44th St ', '2nd Avenue S'], ['W45th St ', '2nd Avenue S'], ['W50th St ', '2nd Avenue S'], ['W51th St ', '2nd Avenue S'], ['W52th St ', '2nd Avenue S'], ['W53th St ', '2nd Avenue S'], ['W54th St ', '2nd Avenue S'], ['W55th St ', '2nd Avenue S'], ['W56th St ', '2nd Avenue S'], ['W57th St ', '2nd Avenue S'], ['W24th St ', '1st Avenue S'], ['W25th St ', '1st Avenue S'], ['W26th St ', '1st Avenue S'], ['W27th St ', '1st Avenue S'], ['W28th St ', '1st Avenue S'], ['W29th St ', '1st Avenue S'], ['W30th St ', '1st Avenue S'], ['W31th St ', '1st Avenue S'], ['W32th St ', '1st Avenue S'], ['W33th St ', '1st Avenue S'], ['W34th St ', '1st Avenue S'], ['W35th St ', '1st Avenue S'], ['W36th St ', '1st Avenue S'], ['W37th St ', '1st Avenue S'], ['W38th St ', '1st Avenue S'], ['W39th St ', '1st Avenue S'], ['W40th St ', '1st Avenue S'], ['W41th St ', '1st Avenue S'], ['W42th St ', '1st Avenue S'], ['W43th St ', '1st Avenue S'], ['W44th St ', '1st Avenue S'], ['W45th St ', '1st Avenue S'], ['W50th St ', '1st Avenue S'], ['W51th St ', '1st Avenue S'], ['W52th St ', '1st Avenue S'], ['W53th St ', '1st Avenue S'], ['W54th St ', '1st Avenue S'], ['W55th St ', '1st Avenue S'], ['W56th St ', '1st Avenue S'], ['W57th St ', '1st Avenue S'], ['W1st St ', '10th Avenue'], ['W2nd St ', '10th Avenue'], ['W3rd St ', '10th Avenue'], ['W4th St ', '10th Avenue'], ['W5th St ', '10th Avenue'], ['W6th St ', '10th Avenue'], ['W7th St ', '10th Avenue'], ['W8th St ', '10th Avenue'], ['W9th St ', '10th Avenue'], ['W10th St ', '10th Avenue'], ['W11th St ', '10th Avenue'], ['W12th St ', '10th Avenue'], ['W13th St ', '10th Avenue'], ['W14th St ', '10th Avenue'], ['W15th St ', '10th Avenue'], ['W16th St ', '10th Avenue'], ['W17th St ', '10th Avenue'], ['W18th St ', '10th Avenue'], ['W19th St ', '10th Avenue'], ['W20th St ', '10th Avenue'], ['W21th St ', '10th Avenue'], ['W22th St ', '10th Avenue'], ['W23th St ', '10th Avenue'], ['W1st St ', '9th Avenue'], ['W2nd St ', '9th Avenue'], ['W3rd St ', '9th Avenue'], ['W4th St ', '9th Avenue'], ['W5th St ', '9th Avenue'], ['W6th St ', '9th Avenue'], ['W7th St ', '9th Avenue'], ['W8th St ', '9th Avenue'], ['W9th St ', '9th Avenue'], ['W10th St ', '9th Avenue'], ['W11th St ', '9th Avenue'], ['W12th St ', '9th Avenue'], ['W13th St ', '9th Avenue'], ['W14th St ', '9th Avenue'], ['W15th St ', '9th Avenue'], ['W16th St ', '9th Avenue'], ['W17th St ', '9th Avenue'], ['W18th St ', '9th Avenue'], ['W19th St ', '9th Avenue'], ['W20th St ', '9th Avenue'], ['W21th St ', '9th Avenue'], ['W22th St ', '9th Avenue'], ['W23th St ', '9th Avenue'], ['W1st St ', '8th Avenue'], ['W2nd St ', '8th Avenue'], ['W3rd St ', '8th Avenue'], ['W4th St ', '8th Avenue'], ['W5th St ', '8th Avenue'], ['W6th St ', '8th Avenue'], ['W7th St ', '8th Avenue'], ['W8th St ', '8th Avenue'], ['W9th St ', '8th Avenue'], ['W10th St ', '8th Avenue'], ['W11th St ', '8th Avenue'], ['W12th St ', '8th Avenue'], ['W13th St ', '8th Avenue'], ['W14th St ', '8th Avenue'], ['W15th St ', '8th Avenue'], ['W16th St ', '8th Avenue'], ['W17th St ', '8th Avenue'], ['W18th St ', '8th Avenue'], ['W19th St ', '8th Avenue'], ['W20th St ', '8th Avenue'], ['W21th St ', '8th Avenue'], ['W22th St ', '8th Avenue'], ['W23th St ', '8th Avenue'], ['W1st St ', '7th Avenue'], ['W2nd St ', '7th Avenue'], ['W3rd St ', '7th Avenue'], ['W4th St ', '7th Avenue'], ['W5th St ', '7th Avenue'], ['W6th St ', '7th Avenue'], ['W7th St ', '7th Avenue'], ['W8th St ', '7th Avenue'], ['W9th St ', '7th Avenue'], ['W10th St ', '7th Avenue'], ['W11th St ', '7th Avenue'], ['W12th St ', '7th Avenue'], ['W13th St ', '7th Avenue'], ['W14th St ', '7th Avenue'], ['W15th St ', '7th Avenue'], ['W16th St ', '7th Avenue'], ['W17th St ', '7th Avenue'], ['W18th St ', '7th Avenue'], ['W19th St ', '7th Avenue'], ['W20th St ', '7th Avenue'], ['W21th St ', '7th Avenue'], ['W22th St ', '7th Avenue'], ['W23th St ', '7th Avenue'], ['W1st St ', '6th Avenue'], ['W2nd St ', '6th Avenue'], ['W3rd St ', '6th Avenue'], ['W4th St ', '6th Avenue'], ['W5th St ', '6th Avenue'], ['W6th St ', '6th Avenue'], ['W7th St ', '6th Avenue'], ['W8th St ', '6th Avenue'], ['W9th St ', '6th Avenue'], ['W10th St ', '6th Avenue'], ['W11th St ', '6th Avenue'], ['W12th St ', '6th Avenue'], ['W13th St ', '6th Avenue'], ['W14th St ', '6th Avenue'], ['W15th St ', '6th Avenue'], ['W16th St ', '6th Avenue'], ['W17th St ', '6th Avenue'], ['W18th St ', '6th Avenue'], ['W19th St ', '6th Avenue'], ['W20th St ', '6th Avenue'], ['W21th St ', '6th Avenue'], ['W22th St ', '6th Avenue'], ['W23th St ', '6th Avenue'], ['W1st St ', '5th Avenue'], ['W2nd St ', '5th Avenue'], ['W3rd St ', '5th Avenue'], ['W4th St ', '5th Avenue'], ['W5th St ', '5th Avenue'], ['W6th St ', '5th Avenue'], ['W7th St ', '5th Avenue'], ['W8th St ', '5th Avenue'], ['W9th St ', '5th Avenue'], ['W10th St ', '5th Avenue'], ['W11th St ', '5th Avenue'], ['W12th St ', '5th Avenue'], ['W13th St ', '5th Avenue'], ['W14th St ', '5th Avenue'], ['W15th St ', '5th Avenue'], ['W16th St ', '5th Avenue'], ['W17th St ', '5th Avenue'], ['W18th St ', '5th Avenue'], ['W19th St ', '5th Avenue'], ['W20th St ', '5th Avenue'], ['W21th St ', '5th Avenue'], ['W22th St ', '5th Avenue'], ['W23th St ', '5th Avenue'], ['W1st St ', 'Park Avenue'], ['W2nd St ', 'Park Avenue'], ['W3rd St ', 'Park Avenue'], ['W4th St ', 'Park Avenue'], ['W5th St ', 'Park Avenue'], ['W6th St ', 'Park Avenue'], ['W7th St ', 'Park Avenue'], ['W8th St ', 'Park Avenue'], ['W9th St ', 'Park Avenue'], ['W10th St ', 'Park Avenue'], ['W11th St ', 'Park Avenue'], ['W12th St ', 'Park Avenue'], ['W13th St ', 'Park Avenue'], ['W14th St ', 'Park Avenue'], ['W15th St ', 'Park Avenue'], ['W16th St ', 'Park Avenue'], ['W17th St ', 'Park Avenue'], ['W18th St ', 'Park Avenue'], ['W19th St ', 'Park Avenue'], ['W20th St ', 'Park Avenue'], ['W21th St ', 'Park Avenue'], ['W22th St ', 'Park Avenue'], ['W23th St ', 'Park Avenue'], ['W1st St ', 'Lexington Avenue'], ['W2nd St ', 'Lexington Avenue'], ['W3rd St ', 'Lexington Avenue'], ['W4th St ', 'Lexington Avenue'], ['W5th St ', 'Lexington Avenue'], ['W6th St ', 'Lexington Avenue'], ['W7th St ', 'Lexington Avenue'], ['W8th St ', 'Lexington Avenue'], ['W9th St ', 'Lexington Avenue'], ['W10th St ', 'Lexington Avenue'], ['W11th St ', 'Lexington Avenue'], ['W12th St ', 'Lexington Avenue'], ['W13th St ', 'Lexington Avenue'], ['W14th St ', 'Lexington Avenue'], ['W15th St ', 'Lexington Avenue'], ['W16th St ', 'Lexington Avenue'], ['W17th St ', 'Lexington Avenue'], ['W18th St ', 'Lexington Avenue'], ['W19th St ', 'Lexington Avenue'], ['W20th St ', 'Lexington Avenue'], ['W21th St ', 'Lexington Avenue'], ['W22th St ', 'Lexington Avenue'], ['W23th St ', 'Lexington Avenue'], ['W1st St ', '3rd Avenue'], ['W2nd St ', '3rd Avenue'], ['W3rd St ', '3rd Avenue'], ['W4th St ', '3rd Avenue'], ['W5th St ', '3rd Avenue'], ['W6th St ', '3rd Avenue'], ['W7th St ', '3rd Avenue'], ['W8th St ', '3rd Avenue'], ['W9th St ', '3rd Avenue'], ['W10th St ', '3rd Avenue'], ['W11th St ', '3rd Avenue'], ['W12th St ', '3rd Avenue'], ['W13th St ', '3rd Avenue'], ['W14th St ', '3rd Avenue'], ['W15th St ', '3rd Avenue'], ['W16th St ', '3rd Avenue'], ['W17th St ', '3rd Avenue'], ['W18th St ', '3rd Avenue'], ['W19th St ', '3rd Avenue'], ['W20th St ', '3rd Avenue'], ['W21th St ', '3rd Avenue'], ['W22th St ', '3rd Avenue'], ['W23th St ', '3rd Avenue'], ['W1st St ', '2nd Avenue'], ['W2nd St ', '2nd Avenue'], ['W3rd St ', '2nd Avenue'], ['W4th St ', '2nd Avenue'], ['W5th St ', '2nd Avenue'], ['W6th St ', '2nd Avenue'], ['W7th St ', '2nd Avenue'], ['W8th St ', '2nd Avenue'], ['W9th St ', '2nd Avenue'], ['W10th St ', '2nd Avenue'], ['W11th St ', '2nd Avenue'], ['W12th St ', '2nd Avenue'], ['W13th St ', '2nd Avenue'], ['W14th St ', '2nd Avenue'], ['W15th St ', '2nd Avenue'], ['W16th St ', '2nd Avenue'], ['W17th St ', '2nd Avenue'], ['W18th St ', '2nd Avenue'], ['W19th St ', '2nd Avenue'], ['W20th St ', '2nd Avenue'], ['W21th St ', '2nd Avenue'], ['W22th St ', '2nd Avenue'], ['W23th St ', '2nd Avenue'], ['W1st St ', '1st Avenue'], ['W2nd St ', '1st Avenue'], ['W3rd St ', '1st Avenue'], ['W4th St ', '1st Avenue'], ['W5th St ', '1st Avenue'], ['W6th St ', '1st Avenue'], ['W7th St ', '1st Avenue'], ['W8th St ', '1st Avenue'], ['W9th St ', '1st Avenue'], ['W10th St ', '1st Avenue'], ['W11th St ', '1st Avenue'], ['W12th St ', '1st Avenue'], ['W13th St ', '1st Avenue'], ['W14th St ', '1st Avenue'], ['W15th St ', '1st Avenue'], ['W16th St ', '1st Avenue'], ['W17th St ', '1st Avenue'], ['W18th St ', '1st Avenue'], ['W19th St ', '1st Avenue'], ['W20th St ', '1st Avenue'], ['W21th St ', '1st Avenue'], ['W22th St ', '1st Avenue'], ['W23th St ', '1st Avenue'], ['W58th St ', '10th Avenue'], ['W59th St ', '10th Avenue'], ['W60th St ', '10th Avenue'], ['W61th St ', '10th Avenue'], ['W62th St ', '10th Avenue'], ['W63th St ', '10th Avenue'], ['W64th St ', '10th Avenue'], ['W65th St ', '10th Avenue'], ['W66th St ', '10th Avenue'], ['W67th St ', '10th Avenue'], ['W68th St ', '10th Avenue'], ['W69th St ', '10th Avenue'], ['W70th St ', '10th Avenue'], ['W71th St ', '10th Avenue'], ['W72th St ', '10th Avenue'], ['W73th St ', '10th Avenue'], ['W74th St ', '10th Avenue'], ['W75th St ', '10th Avenue'], ['W76th St ', '10th Avenue'], ['W77th St ', '10th Avenue'], ['W78th St ', '10th Avenue'], ['W79th St ', '10th Avenue'], ['W80th St ', '10th Avenue'], ['W81th St ', '10th Avenue'], ['W82th St ', '10th Avenue'], ['W83th St ', '10th Avenue'], ['W84th St ', '10th Avenue'], ['W85th St ', '10th Avenue'], ['W86th St ', '10th Avenue'], ['W87th St ', '10th Avenue'], ['W88th St ', '10th Avenue'], ['W89th St ', '10th Avenue'], ['W90th St ', '10th Avenue'], ['W91th St ', '10th Avenue'], ['W92th St ', '10th Avenue'], ['W93th St ', '10th Avenue'], ['W94th St ', '10th Avenue'], ['W95th St ', '10th Avenue'], ['W96th St ', '10th Avenue'], ['W97th St ', '10th Avenue'], ['W98th St ', '10th Avenue'], ['W99th St ', '10th Avenue'], ['W100th St ', '10th Avenue'], ['W101th St ', '10th Avenue'], ['W102th St ', '10th Avenue'], ['W103th St ', '10th Avenue'], ['W104th St ', '10th Avenue'], ['W105th St ', '10th Avenue'], ['W106th St ', '10th Avenue'], ['W107th St ', '10th Avenue'], ['W108th St ', '10th Avenue'], ['W109th St ', '10th Avenue'], ['W110th St ', '10th Avenue'], ['W58th St ', '9th Avenue'], ['W59th St ', '9th Avenue'], ['W60th St ', '9th Avenue'], ['W61th St ', '9th Avenue'], ['W62th St ', '9th Avenue'], ['W63th St ', '9th Avenue'], ['W64th St ', '9th Avenue'], ['W65th St ', '9th Avenue'], ['W66th St ', '9th Avenue'], ['W67th St ', '9th Avenue'], ['W68th St ', '9th Avenue'], ['W69th St ', '9th Avenue'], ['W70th St ', '9th Avenue'], ['W71th St ', '9th Avenue'], ['W72th St ', '9th Avenue'], ['W73th St ', '9th Avenue'], ['W74th St ', '9th Avenue'], ['W75th St ', '9th Avenue'], ['W76th St ', '9th Avenue'], ['W77th St ', '9th Avenue'], ['W78th St ', '9th Avenue'], ['W79th St ', '9th Avenue'], ['W80th St ', '9th Avenue'], ['W81th St ', '9th Avenue'], ['W82th St ', '9th Avenue'], ['W83th St ', '9th Avenue'], ['W84th St ', '9th Avenue'], ['W85th St ', '9th Avenue'], ['W86th St ', '9th Avenue'], ['W87th St ', '9th Avenue'], ['W88th St ', '9th Avenue'], ['W89th St ', '9th Avenue'], ['W90th St ', '9th Avenue'], ['W91th St ', '9th Avenue'], ['W92th St ', '9th Avenue'], ['W93th St ', '9th Avenue'], ['W94th St ', '9th Avenue'], ['W95th St ', '9th Avenue'], ['W96th St ', '9th Avenue'], ['W97th St ', '9th Avenue'], ['W98th St ', '9th Avenue'], ['W99th St ', '9th Avenue'], ['W100th St ', '9th Avenue'], ['W101th St ', '9th Avenue'], ['W102th St ', '9th Avenue'], ['W103th St ', '9th Avenue'], ['W104th St ', '9th Avenue'], ['W105th St ', '9th Avenue'], ['W106th St ', '9th Avenue'], ['W107th St ', '9th Avenue'], ['W108th St ', '9th Avenue'], ['W109th St ', '9th Avenue'], ['W110th St ', '9th Avenue'], ['W58th St ', '8th Avenue'], ['W59th St ', '8th Avenue'], ['W60th St ', '8th Avenue'], ['W61th St ', '8th Avenue'], ['W62th St ', '8th Avenue'], ['W63th St ', '8th Avenue'], ['W64th St ', '8th Avenue'], ['W65th St ', '8th Avenue'], ['W66th St ', '8th Avenue'], ['W67th St ', '8th Avenue'], ['W68th St ', '8th Avenue'], ['W69th St ', '8th Avenue'], ['W70th St ', '8th Avenue'], ['W71th St ', '8th Avenue'], ['W72th St ', '8th Avenue'], ['W73th St ', '8th Avenue'], ['W74th St ', '8th Avenue'], ['W75th St ', '8th Avenue'], ['W76th St ', '8th Avenue'], ['W77th St ', '8th Avenue'], ['W78th St ', '8th Avenue'], ['W79th St ', '8th Avenue'], ['W80th St ', '8th Avenue'], ['W81th St ', '8th Avenue'], ['W82th St ', '8th Avenue'], ['W83th St ', '8th Avenue'], ['W84th St ', '8th Avenue'], ['W85th St ', '8th Avenue'], ['W86th St ', '8th Avenue'], ['W87th St ', '8th Avenue'], ['W88th St ', '8th Avenue'], ['W89th St ', '8th Avenue'], ['W90th St ', '8th Avenue'], ['W91th St ', '8th Avenue'], ['W92th St ', '8th Avenue'], ['W93th St ', '8th Avenue'], ['W94th St ', '8th Avenue'], ['W95th St ', '8th Avenue'], ['W96th St ', '8th Avenue'], ['W97th St ', '8th Avenue'], ['W98th St ', '8th Avenue'], ['W99th St ', '8th Avenue'], ['W100th St ', '8th Avenue'], ['W101th St ', '8th Avenue'], ['W102th St ', '8th Avenue'], ['W103th St ', '8th Avenue'], ['W104th St ', '8th Avenue'], ['W105th St ', '8th Avenue'], ['W106th St ', '8th Avenue'], ['W107th St ', '8th Avenue'], ['W108th St ', '8th Avenue'], ['W109th St ', '8th Avenue'], ['W110th St ', '8th Avenue'], ['E57th St ', '5th Avenue'], ['E58th St ', '5th Avenue'], ['E59th St ', '5th Avenue'], ['E60th St ', '5th Avenue'], ['E61th St ', '5th Avenue'], ['E62th St ', '5th Avenue'], ['E63th St ', '5th Avenue'], ['E64th St ', '5th Avenue'], ['E65th St ', '5th Avenue'], ['E66th St ', '5th Avenue'], ['E67th St ', '5th Avenue'], ['E68th St ', '5th Avenue'], ['E69th St ', '5th Avenue'], ['E70th St ', '5th Avenue'], ['E71th St ', '5th Avenue'], ['E72th St ', '5th Avenue'], ['E73th St ', '5th Avenue'], ['E74th St ', '5th Avenue'], ['E75th St ', '5th Avenue'], ['E76th St ', '5th Avenue'], ['E77th St ', '5th Avenue'], ['E78th St ', '5th Avenue'], ['E79th St ', '5th Avenue'], ['E80th St ', '5th Avenue'], ['E81th St ', '5th Avenue'], ['E82th St ', '5th Avenue'], ['E83th St ', '5th Avenue'], ['E84th St ', '5th Avenue'], ['E85th St ', '5th Avenue'], ['E86th St ', '5th Avenue'], ['E87th St ', '5th Avenue'], ['E88th St ', '5th Avenue'], ['E89th St ', '5th Avenue'], ['E90th St ', '5th Avenue'], ['E91th St ', '5th Avenue'], ['E92th St ', '5th Avenue'], ['E93th St ', '5th Avenue'], ['E94th St ', '5th Avenue'], ['E95th St ', '5th Avenue'], ['E96th St ', '5th Avenue'], ['E97th St ', '5th Avenue'], ['E98th St ', '5th Avenue'], ['E99th St ', '5th Avenue'], ['E100th St ', '5th Avenue'], ['E101th St ', '5th Avenue'], ['E102th St ', '5th Avenue'], ['E103th St ', '5th Avenue'], ['E104th St ', '5th Avenue'], ['E105th St ', '5th Avenue'], ['E106th St ', '5th Avenue'], ['E107th St ', '5th Avenue'], ['E108th St ', '5th Avenue'], ['E109th St ', '5th Avenue'], ['E110th St ', '5th Avenue'], ['E57th St ', 'Madison Avenue'], ['E58th St ', 'Madison Avenue'], ['E59th St ', 'Madison Avenue'], ['E60th St ', 'Madison Avenue'], ['E61th St ', 'Madison Avenue'], ['E62th St ', 'Madison Avenue'], ['E63th St ', 'Madison Avenue'], ['E64th St ', 'Madison Avenue'], ['E65th St ', 'Madison Avenue'], ['E66th St ', 'Madison Avenue'], ['E67th St ', 'Madison Avenue'], ['E68th St ', 'Madison Avenue'], ['E69th St ', 'Madison Avenue'], ['E70th St ', 'Madison Avenue'], ['E71th St ', 'Madison Avenue'], ['E72th St ', 'Madison Avenue'], ['E73th St ', 'Madison Avenue'], ['E74th St ', 'Madison Avenue'], ['E75th St ', 'Madison Avenue'], ['E76th St ', 'Madison Avenue'], ['E77th St ', 'Madison Avenue'], ['E78th St ', 'Madison Avenue'], ['E79th St ', 'Madison Avenue'], ['E80th St ', 'Madison Avenue'], ['E81th St ', 'Madison Avenue'], ['E82th St ', 'Madison Avenue'], ['E83th St ', 'Madison Avenue'], ['E84th St ', 'Madison Avenue'], ['E85th St ', 'Madison Avenue'], ['E86th St ', 'Madison Avenue'], ['E87th St ', 'Madison Avenue'], ['E88th St ', 'Madison Avenue'], ['E89th St ', 'Madison Avenue'], ['E90th St ', 'Madison Avenue'], ['E91th St ', 'Madison Avenue'], ['E92th St ', 'Madison Avenue'], ['E93th St ', 'Madison Avenue'], ['E94th St ', 'Madison Avenue'], ['E95th St ', 'Madison Avenue'], ['E96th St ', 'Madison Avenue'], ['E97th St ', 'Madison Avenue'], ['E98th St ', 'Madison Avenue'], ['E99th St ', 'Madison Avenue'], ['E100th St ', 'Madison Avenue'], ['E101th St ', 'Madison Avenue'], ['E102th St ', 'Madison Avenue'], ['E103th St ', 'Madison Avenue'], ['E104th St ', 'Madison Avenue'], ['E105th St ', 'Madison Avenue'], ['E106th St ', 'Madison Avenue'], ['E107th St ', 'Madison Avenue'], ['E108th St ', 'Madison Avenue'], ['E109th St ', 'Madison Avenue'], ['E110th St ', 'Madison Avenue'], ['E57th St ', 'Park Avenue'], ['E58th St ', 'Park Avenue'], ['E59th St ', 'Park Avenue'], ['E60th St ', 'Park Avenue'], ['E61th St ', 'Park Avenue'], ['E62th St ', 'Park Avenue'], ['E63th St ', 'Park Avenue'], ['E64th St ', 'Park Avenue'], ['E65th St ', 'Park Avenue'], ['E66th St ', 'Park Avenue'], ['E67th St ', 'Park Avenue'], ['E68th St ', 'Park Avenue'], ['E69th St ', 'Park Avenue'], ['E70th St ', 'Park Avenue'], ['E71th St ', 'Park Avenue'], ['E72th St ', 'Park Avenue'], ['E73th St ', 'Park Avenue'], ['E74th St ', 'Park Avenue'], ['E75th St ', 'Park Avenue'], ['E76th St ', 'Park Avenue'], ['E77th St ', 'Park Avenue'], ['E78th St ', 'Park Avenue'], ['E79th St ', 'Park Avenue'], ['E80th St ', 'Park Avenue'], ['E81th St ', 'Park Avenue'], ['E82th St ', 'Park Avenue'], ['E83th St ', 'Park Avenue'], ['E84th St ', 'Park Avenue'], ['E85th St ', 'Park Avenue'], ['E86th St ', 'Park Avenue'], ['E87th St ', 'Park Avenue'], ['E88th St ', 'Park Avenue'], ['E89th St ', 'Park Avenue'], ['E90th St ', 'Park Avenue'], ['E91th St ', 'Park Avenue'], ['E92th St ', 'Park Avenue'], ['E93th St ', 'Park Avenue'], ['E94th St ', 'Park Avenue'], ['E95th St ', 'Park Avenue'], ['E96th St ', 'Park Avenue'], ['E97th St ', 'Park Avenue'], ['E98th St ', 'Park Avenue'], ['E99th St ', 'Park Avenue'], ['E100th St ', 'Park Avenue'], ['E101th St ', 'Park Avenue'], ['E102th St ', 'Park Avenue'], ['E103th St ', 'Park Avenue'], ['E104th St ', 'Park Avenue'], ['E105th St ', 'Park Avenue'], ['E106th St ', 'Park Avenue'], ['E107th St ', 'Park Avenue'], ['E108th St ', 'Park Avenue'], ['E109th St ', 'Park Avenue'], ['E110th St ', 'Park Avenue'], ['E57th St ', 'Lexington Avenue'], ['E58th St ', 'Lexington Avenue'], ['E59th St ', 'Lexington Avenue'], ['E60th St ', 'Lexington Avenue'], ['E61th St ', 'Lexington Avenue'], ['E62th St ', 'Lexington Avenue'], ['E63th St ', 'Lexington Avenue'], ['E64th St ', 'Lexington Avenue'], ['E65th St ', 'Lexington Avenue'], ['E66th St ', 'Lexington Avenue'], ['E67th St ', 'Lexington Avenue'], ['E68th St ', 'Lexington Avenue'], ['E69th St ', 'Lexington Avenue'], ['E70th St ', 'Lexington Avenue'], ['E71th St ', 'Lexington Avenue'], ['E72th St ', 'Lexington Avenue'], ['E73th St ', 'Lexington Avenue'], ['E74th St ', 'Lexington Avenue'], ['E75th St ', 'Lexington Avenue'], ['E76th St ', 'Lexington Avenue'], ['E77th St ', 'Lexington Avenue'], ['E78th St ', 'Lexington Avenue'], ['E79th St ', 'Lexington Avenue'], ['E80th St ', 'Lexington Avenue'], ['E81th St ', 'Lexington Avenue'], ['E82th St ', 'Lexington Avenue'], ['E83th St ', 'Lexington Avenue'], ['E84th St ', 'Lexington Avenue'], ['E85th St ', 'Lexington Avenue'], ['E86th St ', 'Lexington Avenue'], ['E87th St ', 'Lexington Avenue'], ['E88th St ', 'Lexington Avenue'], ['E89th St ', 'Lexington Avenue'], ['E90th St ', 'Lexington Avenue'], ['E91th St ', 'Lexington Avenue'], ['E92th St ', 'Lexington Avenue'], ['E93th St ', 'Lexington Avenue'], ['E94th St ', 'Lexington Avenue'], ['E95th St ', 'Lexington Avenue'], ['E96th St ', 'Lexington Avenue'], ['E97th St ', 'Lexington Avenue'], ['E98th St ', 'Lexington Avenue'], ['E99th St ', 'Lexington Avenue'], ['E100th St ', 'Lexington Avenue'], ['E101th St ', 'Lexington Avenue'], ['E102th St ', 'Lexington Avenue'], ['E103th St ', 'Lexington Avenue'], ['E104th St ', 'Lexington Avenue'], ['E105th St ', 'Lexington Avenue'], ['E106th St ', 'Lexington Avenue'], ['E107th St ', 'Lexington Avenue'], ['E108th St ', 'Lexington Avenue'], ['E109th St ', 'Lexington Avenue'], ['E110th St ', 'Lexington Avenue'], ['E57th St ', '3rd Avenue'], ['E58th St ', '3rd Avenue'], ['E59th St ', '3rd Avenue'], ['E60th St ', '3rd Avenue'], ['E61th St ', '3rd Avenue'], ['E62th St ', '3rd Avenue'], ['E63th St ', '3rd Avenue'], ['E64th St ', '3rd Avenue'], ['E65th St ', '3rd Avenue'], ['E66th St ', '3rd Avenue'], ['E67th St ', '3rd Avenue'], ['E68th St ', '3rd Avenue'], ['E69th St ', '3rd Avenue'], ['E70th St ', '3rd Avenue'], ['E71th St ', '3rd Avenue'], ['E72th St ', '3rd Avenue'], ['E73th St ', '3rd Avenue'], ['E74th St ', '3rd Avenue'], ['E75th St ', '3rd Avenue'], ['E76th St ', '3rd Avenue'], ['E77th St ', '3rd Avenue'], ['E78th St ', '3rd Avenue'], ['E79th St ', '3rd Avenue'], ['E80th St ', '3rd Avenue'], ['E81th St ', '3rd Avenue'], ['E82th St ', '3rd Avenue'], ['E83th St ', '3rd Avenue'], ['E84th St ', '3rd Avenue'], ['E85th St ', '3rd Avenue'], ['E86th St ', '3rd Avenue'], ['E87th St ', '3rd Avenue'], ['E88th St ', '3rd Avenue'], ['E89th St ', '3rd Avenue'], ['E90th St ', '3rd Avenue'], ['E91th St ', '3rd Avenue'], ['E92th St ', '3rd Avenue'], ['E93th St ', '3rd Avenue'], ['E94th St ', '3rd Avenue'], ['E95th St ', '3rd Avenue'], ['E96th St ', '3rd Avenue'], ['E97th St ', '3rd Avenue'], ['E98th St ', '3rd Avenue'], ['E99th St ', '3rd Avenue'], ['E100th St ', '3rd Avenue'], ['E101th St ', '3rd Avenue'], ['E102th St ', '3rd Avenue'], ['E103th St ', '3rd Avenue'], ['E104th St ', '3rd Avenue'], ['E105th St ', '3rd Avenue'], ['E106th St ', '3rd Avenue'], ['E107th St ', '3rd Avenue'], ['E108th St ', '3rd Avenue'], ['E109th St ', '3rd Avenue'], ['E110th St ', '3rd Avenue'], ['E57th St ', '2nd Avenue'], ['E58th St ', '2nd Avenue'], ['E59th St ', '2nd Avenue'], ['E60th St ', '2nd Avenue'], ['E61th St ', '2nd Avenue'], ['E62th St ', '2nd Avenue'], ['E63th St ', '2nd Avenue'], ['E64th St ', '2nd Avenue'], ['E65th St ', '2nd Avenue'], ['E66th St ', '2nd Avenue'], ['E67th St ', '2nd Avenue'], ['E68th St ', '2nd Avenue'], ['E69th St ', '2nd Avenue'], ['E70th St ', '2nd Avenue'], ['E71th St ', '2nd Avenue'], ['E72th St ', '2nd Avenue'], ['E73th St ', '2nd Avenue'], ['E74th St ', '2nd Avenue'], ['E75th St ', '2nd Avenue'], ['E76th St ', '2nd Avenue'], ['E77th St ', '2nd Avenue'], ['E78th St ', '2nd Avenue'], ['E79th St ', '2nd Avenue'], ['E80th St ', '2nd Avenue'], ['E81th St ', '2nd Avenue'], ['E82th St ', '2nd Avenue'], ['E83th St ', '2nd Avenue'], ['E84th St ', '2nd Avenue'], ['E85th St ', '2nd Avenue'], ['E86th St ', '2nd Avenue'], ['E87th St ', '2nd Avenue'], ['E88th St ', '2nd Avenue'], ['E89th St ', '2nd Avenue'], ['E90th St ', '2nd Avenue'], ['E91th St ', '2nd Avenue'], ['E92th St ', '2nd Avenue'], ['E93th St ', '2nd Avenue'], ['E94th St ', '2nd Avenue'], ['E95th St ', '2nd Avenue'], ['E96th St ', '2nd Avenue'], ['E97th St ', '2nd Avenue'], ['E98th St ', '2nd Avenue'], ['E99th St ', '2nd Avenue'], ['E100th St ', '2nd Avenue'], ['E101th St ', '2nd Avenue'], ['E102th St ', '2nd Avenue'], ['E103th St ', '2nd Avenue'], ['E104th St ', '2nd Avenue'], ['E105th St ', '2nd Avenue'], ['E106th St ', '2nd Avenue'], ['E107th St ', '2nd Avenue'], ['E108th St ', '2nd Avenue'], ['E109th St ', '2nd Avenue'], ['E110th St ', '2nd Avenue'], ['E57th St ', '1st Avenue'], ['E58th St ', '1st Avenue'], ['E59th St ', '1st Avenue'], ['E60th St ', '1st Avenue'], ['E61th St ', '1st Avenue'], ['E62th St ', '1st Avenue'], ['E63th St ', '1st Avenue'], ['E64th St ', '1st Avenue'], ['E65th St ', '1st Avenue'], ['E66th St ', '1st Avenue'], ['E67th St ', '1st Avenue'], ['E68th St ', '1st Avenue'], ['E69th St ', '1st Avenue'], ['E70th St ', '1st Avenue'], ['E71th St ', '1st Avenue'], ['E72th St ', '1st Avenue'], ['E73th St ', '1st Avenue'], ['E74th St ', '1st Avenue'], ['E75th St ', '1st Avenue'], ['E76th St ', '1st Avenue'], ['E77th St ', '1st Avenue'], ['E78th St ', '1st Avenue'], ['E79th St ', '1st Avenue'], ['E80th St ', '1st Avenue'], ['E81th St ', '1st Avenue'], ['E82th St ', '1st Avenue'], ['E83th St ', '1st Avenue'], ['E84th St ', '1st Avenue'], ['E85th St ', '1st Avenue'], ['E86th St ', '1st Avenue'], ['E87th St ', '1st Avenue'], ['E88th St ', '1st Avenue'], ['E89th St ', '1st Avenue'], ['E90th St ', '1st Avenue'], ['E91th St ', '1st Avenue'], ['E92th St ', '1st Avenue'], ['E93th St ', '1st Avenue'], ['E94th St ', '1st Avenue'], ['E95th St ', '1st Avenue'], ['E96th St ', '1st Avenue'], ['E97th St ', '1st Avenue'], ['E98th St ', '1st Avenue'], ['E99th St ', '1st Avenue'], ['E100th St ', '1st Avenue'], ['E101th St ', '1st Avenue'], ['E102th St ', '1st Avenue'], ['E103th St ', '1st Avenue'], ['E104th St ', '1st Avenue'], ['E105th St ', '1st Avenue'], ['E106th St ', '1st Avenue'], ['E107th St ', '1st Avenue'], ['E108th St ', '1st Avenue'], ['E109th St ', '1st Avenue'], ['E110th St ', '1st Avenue'], ['E110th St ', 'Manhattan Avenue'], ['E111th St ', 'Manhattan Avenue'], ['E112th St ', 'Manhattan Avenue'], ['E113th St ', 'Manhattan Avenue'], ['E114th St ', 'Manhattan Avenue'], ['E115th St ', 'Manhattan Avenue'], ['E116th St ', 'Manhattan Avenue'], ['E117th St ', 'Manhattan Avenue'], ['E118th St ', 'Manhattan Avenue'], ['E119th St ', 'Manhattan Avenue'], ['E120th St ', 'Manhattan Avenue'], ['E121th St ', 'Manhattan Avenue'], ['E122th St ', 'Manhattan Avenue'], ['E123th St ', 'Manhattan Avenue'], ['E124th St ', 'Manhattan Avenue'], ['E125th St ', 'Manhattan Avenue'], ['E110th St ', 'Frederick Douglass Blvd'], ['E111th St ', 'Frederick Douglass Blvd'], ['E112th St ', 'Frederick Douglass Blvd'], ['E113th St ', 'Frederick Douglass Blvd'], ['E114th St ', 'Frederick Douglass Blvd'], ['E115th St ', 'Frederick Douglass Blvd'], ['E116th St ', 'Frederick Douglass Blvd'], ['E117th St ', 'Frederick Douglass Blvd'], ['E118th St ', 'Frederick Douglass Blvd'], ['E119th St ', 'Frederick Douglass Blvd'], ['E120th St ', 'Frederick Douglass Blvd'], ['E121th St ', 'Frederick Douglass Blvd'], ['E122th St ', 'Frederick Douglass Blvd'], ['E123th St ', 'Frederick Douglass Blvd'], ['E124th St ', 'Frederick Douglass Blvd'], ['E125th St ', 'Frederick Douglass Blvd'], ['E110th St ', 'Adam Clayton Blvd'], ['E111th St ', 'Adam Clayton Blvd'], ['E112th St ', 'Adam Clayton Blvd'], ['E113th St ', 'Adam Clayton Blvd'], ['E114th St ', 'Adam Clayton Blvd'], ['E115th St ', 'Adam Clayton Blvd'], ['E116th St ', 'Adam Clayton Blvd'], ['E117th St ', 'Adam Clayton Blvd'], ['E118th St ', 'Adam Clayton Blvd'], ['E119th St ', 'Adam Clayton Blvd'], ['E120th St ', 'Adam Clayton Blvd'], ['E121th St ', 'Adam Clayton Blvd'], ['E122th St ', 'Adam Clayton Blvd'], ['E123th St ', 'Adam Clayton Blvd'], ['E124th St ', 'Adam Clayton Blvd'], ['E125th St ', 'Adam Clayton Blvd'], ['E110th St ', 'Lenox Avenue'], ['E111th St ', 'Lenox Avenue'], ['E112th St ', 'Lenox Avenue'], ['E113th St ', 'Lenox Avenue'], ['E114th St ', 'Lenox Avenue'], ['E115th St ', 'Lenox Avenue'], ['E116th St ', 'Lenox Avenue'], ['E117th St ', 'Lenox Avenue'], ['E118th St ', 'Lenox Avenue'], ['E119th St ', 'Lenox Avenue'], ['E120th St ', 'Lenox Avenue'], ['E121th St ', 'Lenox Avenue'], ['E122th St ', 'Lenox Avenue'], ['E123th St ', 'Lenox Avenue'], ['E124th St ', 'Lenox Avenue'], ['E125th St ', 'Lenox Avenue'], ['E111th St ', '5th Avenue'], ['E112th St ', '5th Avenue'], ['E113th St ', '5th Avenue'], ['E114th St ', '5th Avenue'], ['E115th St ', '5th Avenue'], ['E116th St ', '5th Avenue'], ['E117th St ', '5th Avenue'], ['E118th St ', '5th Avenue'], ['E119th St ', '5th Avenue'], ['E120th St ', '5th Avenue'], ['E121th St ', '5th Avenue'], ['E122th St ', '5th Avenue'], ['E123th St ', '5th Avenue'], ['E124th St ', '5th Avenue'], ['E125th St ', '5th Avenue'], ['E111th St ', 'Madison Avenue'], ['E112th St ', 'Madison Avenue'], ['E113th St ', 'Madison Avenue'], ['E114th St ', 'Madison Avenue'], ['E115th St ', 'Madison Avenue'], ['E116th St ', 'Madison Avenue'], ['E117th St ', 'Madison Avenue'], ['E118th St ', 'Madison Avenue'], ['E119th St ', 'Madison Avenue'], ['E120th St ', 'Madison Avenue'], ['E121th St ', 'Madison Avenue'], ['E122th St ', 'Madison Avenue'], ['E123th St ', 'Madison Avenue'], ['E124th St ', 'Madison Avenue'], ['E125th St ', 'Madison Avenue'], ['E111th St ', 'Park Avenue'], ['E112th St ', 'Park Avenue'], ['E113th St ', 'Park Avenue'], ['E114th St ', 'Park Avenue'], ['E115th St ', 'Park Avenue'], ['E116th St ', 'Park Avenue'], ['E117th St ', 'Park Avenue'], ['E118th St ', 'Park Avenue'], ['E119th St ', 'Park Avenue'], ['E120th St ', 'Park Avenue'], ['E121th St ', 'Park Avenue'], ['E122th St ', 'Park Avenue'], ['E123th St ', 'Park Avenue'], ['E124th St ', 'Park Avenue'], ['E125th St ', 'Park Avenue'], ['E111th St ', 'Lexington Avenue'], ['E112th St ', 'Lexington Avenue'], ['E113th St ', 'Lexington Avenue'], ['E114th St ', 'Lexington Avenue'], ['E115th St ', 'Lexington Avenue'], ['E116th St ', 'Lexington Avenue'], ['E117th St ', 'Lexington Avenue'], ['E118th St ', 'Lexington Avenue'], ['E119th St ', 'Lexington Avenue'], ['E120th St ', 'Lexington Avenue'], ['E121th St ', 'Lexington Avenue'], ['E122th St ', 'Lexington Avenue'], ['E123th St ', 'Lexington Avenue'], ['E124th St ', 'Lexington Avenue'], ['E125th St ', 'Lexington Avenue'], ['E111th St ', '3rd Avenue'], ['E112th St ', '3rd Avenue'], ['E113th St ', '3rd Avenue'], ['E114th St ', '3rd Avenue'], ['E115th St ', '3rd Avenue'], ['E116th St ', '3rd Avenue'], ['E117th St ', '3rd Avenue'], ['E118th St ', '3rd Avenue'], ['E119th St ', '3rd Avenue'], ['E120th St ', '3rd Avenue'], ['E121th St ', '3rd Avenue'], ['E122th St ', '3rd Avenue'], ['E123th St ', '3rd Avenue'], ['E124th St ', '3rd Avenue'], ['E125th St ', '3rd Avenue'], ['E111th St ', '2nd Avenue'], ['E112th St ', '2nd Avenue'], ['E113th St ', '2nd Avenue'], ['E114th St ', '2nd Avenue'], ['E115th St ', '2nd Avenue'], ['E116th St ', '2nd Avenue'], ['E117th St ', '2nd Avenue'], ['E118th St ', '2nd Avenue'], ['E119th St ', '2nd Avenue'], ['E120th St ', '2nd Avenue'], ['E121th St ', '2nd Avenue'], ['E122th St ', '2nd Avenue'], ['E123th St ', '2nd Avenue'], ['E124th St ', '2nd Avenue'], ['E125th St ', '2nd Avenue'], ['E111th St ', '1st Avenue'], ['E112th St ', '1st Avenue'], ['E113th St ', '1st Avenue'], ['E114th St ', '1st Avenue'], ['E115th St ', '1st Avenue'], ['E116th St ', '1st Avenue'], ['E117th St ', '1st Avenue'], ['E118th St ', '1st Avenue'], ['E119th St ', '1st Avenue'], ['E120th St ', '1st Avenue'], ['E121th St ', '1st Avenue'], ['E122th St ', '1st Avenue'], ['E123th St ', '1st Avenue'], ['E124th St ', '1st Avenue'], ['E125th St ', '1st Avenue']]\n"
          ]
        }
      ]
    },
    {
      "cell_type": "markdown",
      "source": [
        "# **TEST CON 1320 VERTICES**"
      ],
      "metadata": {
        "id": "Idp7vUNZeKUb"
      }
    },
    {
      "cell_type": "code",
      "source": [
        "file = open(\"data.txt\", \"x\") # do not run if exists!"
      ],
      "metadata": {
        "id": "-vA-lY5ugNmb"
      },
      "execution_count": null,
      "outputs": []
    },
    {
      "cell_type": "code",
      "source": [
        "def connect_vertexes(LstreetsV, LstreetsH): \n",
        "  file = open(\"data.txt\", \"a\") # do not run if exists!\n",
        "  leo_corners = makeSquare(LstreetsV, LstreetsH)\n",
        "  leo_corners_i = makeSquare(LstreetsH, LstreetsV)\n",
        "  a = [[]]\n",
        "  for icorner in range(len(leo_corners) - 1):\n",
        "      if leo_corners[icorner][1] == leo_corners[icorner+1][1]:\n",
        "        a[-1].append((leo_corners[icorner],leo_corners[icorner+1]))\n",
        "      else:\n",
        "        a.append([])\n",
        "\n",
        "\n",
        "  b = [[]]\n",
        "  for icorner in range(len(leo_corners_i) - 1):\n",
        "      if leo_corners_i[icorner][1] == leo_corners_i[icorner+1][1]:\n",
        "        b[-1].append((leo_corners_i[icorner],leo_corners_i[icorner+1]))\n",
        "      else:\n",
        "        b.append([])\n",
        "\n",
        "  # all\n",
        "  for c in (a+b):\n",
        "    file.write(str(c))\n",
        "  file.close()\n",
        "\n",
        "connect_vertexes(LstreetsV, LstreetsH)\n",
        "connect_vertexes(GstreetsV, GstreetsH)\n",
        "connect_vertexes(BstreetsV, BstreetsH)\n",
        "connect_vertexes(EstreetsV, EstreetsH)\n",
        "connect_vertexes(AstreetsV, AstreetsH)\n"
      ],
      "metadata": {
        "id": "jhmYrOpTN2qC"
      },
      "execution_count": null,
      "outputs": []
    }
  ]
}