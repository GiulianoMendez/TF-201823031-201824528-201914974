{
  "nbformat": 4,
  "nbformat_minor": 0,
  "metadata": {
    "colab": {
      "name": "Algoritmo_Pesos_Hora_del_Dia.ipynb",
      "provenance": [],
      "collapsed_sections": []
    },
    "kernelspec": {
      "name": "python3",
      "display_name": "Python 3"
    },
    "language_info": {
      "name": "python"
    }
  },
  "cells": [
    {
      "cell_type": "code",
      "source": [
        "import datetime as dt"
      ],
      "metadata": {
        "id": "1q_IjE_B1CJ2"
      },
      "execution_count": 73,
      "outputs": []
    },
    {
      "cell_type": "code",
      "source": [
        "class Traffic:\n",
        "  sixAM = dt.time(6,0,0)\n",
        "  nineAM = dt.time(9,0,0)\n",
        "  twoPM = dt.time(14,0,0)\n",
        "  sixPM = dt.time(18,0,0)\n",
        "  ninePM = dt.time(21,0,0)\n",
        "  elevenPM = dt.time(23,0,0)\n",
        "  \n",
        "  def __init__(self, dayTime = \"\", state = \"\"):\n",
        "    if (dayTime == \"\"):\n",
        "      # Se obtiene la hora local (Perú <> UTC -5)\n",
        "      now = dt.datetime.now(dt.timezone(dt.timedelta(hours = -5)))\n",
        "      self.dayTime = now.strftime(\"%H:%M:%S\")\n",
        "    else:\n",
        "      self.dayTime = dayTime\n",
        "    self.state = state\n",
        "\n",
        "  # De ser necesario se puede actualizar la hora del trafico  \n",
        "  def updateDayTime(self, hour, min = 0, sec = 0):\n",
        "    newDayT = dt.time(hour,min,sec)\n",
        "    self.dayTime = newDayT.strftime(\"%H:%M:%S\")\n",
        "\n",
        "  # Función para verificar si \"x\" se encuentra en el rango \"start-end\"\n",
        "  def time_in_range(self, start, end, x):\n",
        "    \"\"\"Return true if x is in the range [start, end]\"\"\"\n",
        "    if start <= end:\n",
        "        return start <= x <= end\n",
        "    else:\n",
        "        return start <= x or x <= end\n",
        "\n",
        "  # Función para verificar el estado del trafico según la hora    \n",
        "  def checkState(self):\n",
        "    aux = dt.datetime.strptime(self.dayTime,'%H:%M:%S').time()\n",
        "    if (self.time_in_range(self.sixAM,self.nineAM,aux) or self.time_in_range(self.sixPM,self.ninePM,aux)):\n",
        "      self.state = \"Heavy\"\n",
        "    elif (self.time_in_range(self.twoPM,self.sixPM,aux) or self.time_in_range(self.ninePM,self.elevenPM,aux)):\n",
        "      self.state = \"Medium\"\n",
        "    else:\n",
        "      self.state = \"Light\"\n",
        "    return self.state \n",
        "    \n",
        "  # Actualización del peso de la arista, se envía como parámetro una arista\n",
        "  # con el formato [nodoDestino, peso]\n",
        "  def updateWeights(self, edge):\n",
        "    if (self.state == \"Heavy\"):\n",
        "      edge[1] *= 2\n",
        "    elif (self.state == \"Medium\"):\n",
        "      edge[1] *= 1.5    \n",
        "      "
      ],
      "metadata": {
        "id": "EA41hOIR0ywI"
      },
      "execution_count": 74,
      "outputs": []
    }
  ]
}