{
  "cells": [
    {
      "cell_type": "markdown",
      "metadata": {
        "id": "IZeWXww5HUHK"
      },
      "source": [
        "#Algoritmo de rutas cortas"
      ]
    },
    {
      "cell_type": "markdown",
      "metadata": {
        "id": "cq-ThTWyINdo"
      },
      "source": [
        "### Dijkstra común\n"
      ]
    },
    {
      "cell_type": "code",
      "execution_count": 3,
      "metadata": {
        "id": "bF7YMZwqHalU"
      },
      "outputs": [],
      "source": [
        "import numpy as np\n",
        "import math\n",
        "import heapq as hq"
      ]
    },
    {
      "cell_type": "code",
      "execution_count": 4,
      "metadata": {
        "id": "DiYU8iWzHQN3"
      },
      "outputs": [],
      "source": [
        "def dijkstra(G, s):\n",
        "  n = len(G)\n",
        "  visited = [False]*n\n",
        "  path = [-1]*n\n",
        "  cost = [math.inf]*n\n",
        "\n",
        "  cost[s] = 0\n",
        "  pqueue = [(0, s)]\n",
        "  while pqueue:\n",
        "    g, u = hq.heappop(pqueue)\n",
        "    if not visited[u]:\n",
        "      visited[u] = True\n",
        "      for v, w in G[u]:\n",
        "        if not visited[v]:\n",
        "          f = g + w\n",
        "          if f < cost[v]:\n",
        "            cost[v] = f\n",
        "            path[v] = u\n",
        "            hq.heappush(pqueue, (f, v))\n",
        "\n",
        "  return path, cost"
      ]
    },
    {
      "cell_type": "markdown",
      "metadata": {
        "id": "mSslbZsjIjtD"
      },
      "source": [
        "### Ruta más Corta"
      ]
    },
    {
      "cell_type": "code",
      "execution_count": 5,
      "metadata": {
        "id": "ZuED3N6_JrMT"
      },
      "outputs": [],
      "source": [
        "def ruta(start,end,path):\n",
        "  # Se obtiene el nodo inicial, destino y el camino\n",
        "  ruta = [ ]\n",
        "  aux = end\n",
        "  # Se va recorriendo el camino y añadiendo los nodos recorridos desde el\n",
        "  # destino hasta el final\n",
        "  while aux != start:\n",
        "   p = path[aux]\n",
        "   aux = p\n",
        "   if (p != start):\n",
        "    ruta.append(aux)\n",
        "  \n",
        "  return ruta"
      ]
    },
    {
      "cell_type": "code",
      "execution_count": 6,
      "metadata": {
        "id": "v7teYEhPIjGS"
      },
      "outputs": [],
      "source": [
        "def routeShort(G, start,end):\n",
        "  path, cost = dijkstra(G,start)\n",
        "  aux= ruta(start,end,path)\n",
        "  return aux,cost[end]"
      ]
    },
    {
      "cell_type": "markdown",
      "metadata": {
        "id": "LKAz6OgHKkxY"
      },
      "source": [
        "### Ruta corta alternativa "
      ]
    },
    {
      "cell_type": "code",
      "execution_count": null,
      "metadata": {
        "id": "4ESoahpgKoA9"
      },
      "outputs": [],
      "source": []
    },
    {
      "cell_type": "markdown",
      "metadata": {
        "id": "dfNFjISFKoTg"
      },
      "source": [
        "### Ruta corta alternativa 2"
      ]
    },
    {
      "cell_type": "code",
      "execution_count": null,
      "metadata": {
        "id": "mwi8ZzYgKqZb"
      },
      "outputs": [],
      "source": []
    },
    {
      "cell_type": "markdown",
      "metadata": {},
      "source": [
        "### Clase Rutas"
      ]
    },
    {
      "cell_type": "code",
      "execution_count": null,
      "metadata": {},
      "outputs": [],
      "source": [
        "class Routes:\n",
        "    def __init__(self, G =[]):\n",
        "        self.G = G"
      ]
    }
  ],
  "metadata": {
    "colab": {
      "name": "Algoritmo_Rutas.ipynb",
      "provenance": []
    },
    "kernelspec": {
      "display_name": "Python 3",
      "name": "python3"
    },
    "language_info": {
      "name": "python"
    }
  },
  "nbformat": 4,
  "nbformat_minor": 0
}
