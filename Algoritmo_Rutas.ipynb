{
  "nbformat": 4,
  "nbformat_minor": 0,
  "metadata": {
    "colab": {
      "name": "Algoritmo_Rutas.ipynb",
      "provenance": []
    },
    "kernelspec": {
      "name": "python3",
      "display_name": "Python 3"
    },
    "language_info": {
      "name": "python"
    }
  },
  "cells": [
    {
      "cell_type": "markdown",
      "source": [
        "#Algoritmo de rutas cortas"
      ],
      "metadata": {
        "id": "IZeWXww5HUHK"
      }
    },
    {
      "cell_type": "markdown",
      "source": [
        "### Dijkstra común\n"
      ],
      "metadata": {
        "id": "cq-ThTWyINdo"
      }
    },
    {
      "cell_type": "code",
      "source": [
        "import numpy as np\n",
        "import math\n",
        "import heapq as hq"
      ],
      "metadata": {
        "id": "bF7YMZwqHalU"
      },
      "execution_count": 3,
      "outputs": []
    },
    {
      "cell_type": "code",
      "execution_count": 4,
      "metadata": {
        "id": "DiYU8iWzHQN3"
      },
      "outputs": [],
      "source": [
        "def dijkstra(G, s):\n",
        "  n = len(G)\n",
        "  visited = [False]*n\n",
        "  path = [-1]*n\n",
        "  cost = [math.inf]*n\n",
        "\n",
        "  cost[s] = 0\n",
        "  pqueue = [(0, s)]\n",
        "  while pqueue:\n",
        "    g, u = hq.heappop(pqueue)\n",
        "    if not visited[u]:\n",
        "      visited[u] = True\n",
        "      for v, w in G[u]:\n",
        "        if not visited[v]:\n",
        "          f = g + w\n",
        "          if f < cost[v]:\n",
        "            cost[v] = f\n",
        "            path[v] = u\n",
        "            hq.heappush(pqueue, (f, v))\n",
        "\n",
        "  return path, cost"
      ]
    },
    {
      "cell_type": "markdown",
      "source": [
        "### Ruta más Corta"
      ],
      "metadata": {
        "id": "mSslbZsjIjtD"
      }
    },
    {
      "cell_type": "code",
      "source": [
        "def ruta(start,end,path):\n",
        "  # Se obtiene el nodo inicial, destino y el camino\n",
        "  ruta = [ ]\n",
        "  aux = end\n",
        "  # Se va recorriendo el camino y añadiendo los nodos recorridos desde el\n",
        "  # destino hasta el final\n",
        "  while aux != start:\n",
        "   p = path[aux]\n",
        "   aux = p\n",
        "   if (p != start):\n",
        "    ruta.append(aux)\n",
        "  \n",
        "  return ruta"
      ],
      "metadata": {
        "id": "ZuED3N6_JrMT"
      },
      "execution_count": 5,
      "outputs": []
    },
    {
      "cell_type": "code",
      "source": [
        "def routeShort(G, start,end):\n",
        "  path, cost = dijkstra(G,start)\n",
        "  aux= ruta(start,end,path)\n",
        "  return aux,cost[end]"
      ],
      "metadata": {
        "id": "v7teYEhPIjGS"
      },
      "execution_count": 6,
      "outputs": []
    },
    {
      "cell_type": "markdown",
      "source": [
        "### Ruta corta alternativa "
      ],
      "metadata": {
        "id": "LKAz6OgHKkxY"
      }
    },
    {
      "cell_type": "code",
      "source": [
        ""
      ],
      "metadata": {
        "id": "4ESoahpgKoA9"
      },
      "execution_count": null,
      "outputs": []
    },
    {
      "cell_type": "markdown",
      "source": [
        "### Ruta corta alternativa 2"
      ],
      "metadata": {
        "id": "dfNFjISFKoTg"
      }
    },
    {
      "cell_type": "code",
      "source": [
        ""
      ],
      "metadata": {
        "id": "mwi8ZzYgKqZb"
      },
      "execution_count": null,
      "outputs": []
    }
  ]
}